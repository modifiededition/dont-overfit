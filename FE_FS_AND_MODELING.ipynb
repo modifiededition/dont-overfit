{
 "cells": [
  {
   "cell_type": "markdown",
   "id": "3f5b558a",
   "metadata": {},
   "source": [
    "# 1. Importing All required Libraries."
   ]
  },
  {
   "cell_type": "code",
   "execution_count": 1,
   "id": "e701fa7c",
   "metadata": {},
   "outputs": [],
   "source": [
    "import pandas as pd\n",
    "import numpy as np\n",
    "import matplotlib.pyplot as plt\n",
    "\n",
    "import warnings\n",
    "warnings.filterwarnings('ignore')"
   ]
  },
  {
   "cell_type": "markdown",
   "id": "79f4ca66",
   "metadata": {},
   "source": [
    "# 2. Loading data-set and spliting into dependent and independent featues."
   ]
  },
  {
   "cell_type": "markdown",
   "id": "e28b3549",
   "metadata": {},
   "source": [
    "## 2.1 Loading the train-dataset."
   ]
  },
  {
   "cell_type": "code",
   "execution_count": 2,
   "id": "f43e3bc5",
   "metadata": {},
   "outputs": [
    {
     "data": {
      "text/html": [
       "<div>\n",
       "<style scoped>\n",
       "    .dataframe tbody tr th:only-of-type {\n",
       "        vertical-align: middle;\n",
       "    }\n",
       "\n",
       "    .dataframe tbody tr th {\n",
       "        vertical-align: top;\n",
       "    }\n",
       "\n",
       "    .dataframe thead th {\n",
       "        text-align: right;\n",
       "    }\n",
       "</style>\n",
       "<table border=\"1\" class=\"dataframe\">\n",
       "  <thead>\n",
       "    <tr style=\"text-align: right;\">\n",
       "      <th></th>\n",
       "      <th>id</th>\n",
       "      <th>target</th>\n",
       "      <th>0</th>\n",
       "      <th>1</th>\n",
       "      <th>2</th>\n",
       "      <th>3</th>\n",
       "      <th>4</th>\n",
       "      <th>5</th>\n",
       "      <th>6</th>\n",
       "      <th>7</th>\n",
       "      <th>...</th>\n",
       "      <th>290</th>\n",
       "      <th>291</th>\n",
       "      <th>292</th>\n",
       "      <th>293</th>\n",
       "      <th>294</th>\n",
       "      <th>295</th>\n",
       "      <th>296</th>\n",
       "      <th>297</th>\n",
       "      <th>298</th>\n",
       "      <th>299</th>\n",
       "    </tr>\n",
       "  </thead>\n",
       "  <tbody>\n",
       "    <tr>\n",
       "      <th>0</th>\n",
       "      <td>0</td>\n",
       "      <td>1.0</td>\n",
       "      <td>-0.098</td>\n",
       "      <td>2.165</td>\n",
       "      <td>0.681</td>\n",
       "      <td>-0.614</td>\n",
       "      <td>1.309</td>\n",
       "      <td>-0.455</td>\n",
       "      <td>-0.236</td>\n",
       "      <td>0.276</td>\n",
       "      <td>...</td>\n",
       "      <td>0.867</td>\n",
       "      <td>1.347</td>\n",
       "      <td>0.504</td>\n",
       "      <td>-0.649</td>\n",
       "      <td>0.672</td>\n",
       "      <td>-2.097</td>\n",
       "      <td>1.051</td>\n",
       "      <td>-0.414</td>\n",
       "      <td>1.038</td>\n",
       "      <td>-1.065</td>\n",
       "    </tr>\n",
       "    <tr>\n",
       "      <th>1</th>\n",
       "      <td>1</td>\n",
       "      <td>0.0</td>\n",
       "      <td>1.081</td>\n",
       "      <td>-0.973</td>\n",
       "      <td>-0.383</td>\n",
       "      <td>0.326</td>\n",
       "      <td>-0.428</td>\n",
       "      <td>0.317</td>\n",
       "      <td>1.172</td>\n",
       "      <td>0.352</td>\n",
       "      <td>...</td>\n",
       "      <td>-0.165</td>\n",
       "      <td>-1.695</td>\n",
       "      <td>-1.257</td>\n",
       "      <td>1.359</td>\n",
       "      <td>-0.808</td>\n",
       "      <td>-1.624</td>\n",
       "      <td>-0.458</td>\n",
       "      <td>-1.099</td>\n",
       "      <td>-0.936</td>\n",
       "      <td>0.973</td>\n",
       "    </tr>\n",
       "  </tbody>\n",
       "</table>\n",
       "<p>2 rows × 302 columns</p>\n",
       "</div>"
      ],
      "text/plain": [
       "   id  target      0      1      2      3      4      5      6      7  ...  \\\n",
       "0   0     1.0 -0.098  2.165  0.681 -0.614  1.309 -0.455 -0.236  0.276  ...   \n",
       "1   1     0.0  1.081 -0.973 -0.383  0.326 -0.428  0.317  1.172  0.352  ...   \n",
       "\n",
       "     290    291    292    293    294    295    296    297    298    299  \n",
       "0  0.867  1.347  0.504 -0.649  0.672 -2.097  1.051 -0.414  1.038 -1.065  \n",
       "1 -0.165 -1.695 -1.257  1.359 -0.808 -1.624 -0.458 -1.099 -0.936  0.973  \n",
       "\n",
       "[2 rows x 302 columns]"
      ]
     },
     "execution_count": 2,
     "metadata": {},
     "output_type": "execute_result"
    }
   ],
   "source": [
    "df = pd.read_csv(\"../data/train.csv\")\n",
    "df.head(2)"
   ]
  },
  {
   "cell_type": "markdown",
   "id": "d7f917de",
   "metadata": {},
   "source": [
    "## 2.2 Loading the test-dataset."
   ]
  },
  {
   "cell_type": "code",
   "execution_count": 3,
   "id": "ebec55e3",
   "metadata": {},
   "outputs": [
    {
     "data": {
      "text/html": [
       "<div>\n",
       "<style scoped>\n",
       "    .dataframe tbody tr th:only-of-type {\n",
       "        vertical-align: middle;\n",
       "    }\n",
       "\n",
       "    .dataframe tbody tr th {\n",
       "        vertical-align: top;\n",
       "    }\n",
       "\n",
       "    .dataframe thead th {\n",
       "        text-align: right;\n",
       "    }\n",
       "</style>\n",
       "<table border=\"1\" class=\"dataframe\">\n",
       "  <thead>\n",
       "    <tr style=\"text-align: right;\">\n",
       "      <th></th>\n",
       "      <th>id</th>\n",
       "      <th>0</th>\n",
       "      <th>1</th>\n",
       "      <th>2</th>\n",
       "      <th>3</th>\n",
       "      <th>4</th>\n",
       "      <th>5</th>\n",
       "      <th>6</th>\n",
       "      <th>7</th>\n",
       "      <th>8</th>\n",
       "      <th>...</th>\n",
       "      <th>290</th>\n",
       "      <th>291</th>\n",
       "      <th>292</th>\n",
       "      <th>293</th>\n",
       "      <th>294</th>\n",
       "      <th>295</th>\n",
       "      <th>296</th>\n",
       "      <th>297</th>\n",
       "      <th>298</th>\n",
       "      <th>299</th>\n",
       "    </tr>\n",
       "  </thead>\n",
       "  <tbody>\n",
       "    <tr>\n",
       "      <th>0</th>\n",
       "      <td>250</td>\n",
       "      <td>0.500</td>\n",
       "      <td>-1.033</td>\n",
       "      <td>-1.595</td>\n",
       "      <td>0.309</td>\n",
       "      <td>-0.714</td>\n",
       "      <td>0.502</td>\n",
       "      <td>0.535</td>\n",
       "      <td>-0.129</td>\n",
       "      <td>-0.687</td>\n",
       "      <td>...</td>\n",
       "      <td>-0.088</td>\n",
       "      <td>-2.628</td>\n",
       "      <td>-0.845</td>\n",
       "      <td>2.078</td>\n",
       "      <td>-0.277</td>\n",
       "      <td>2.132</td>\n",
       "      <td>0.609</td>\n",
       "      <td>-0.104</td>\n",
       "      <td>0.312</td>\n",
       "      <td>0.979</td>\n",
       "    </tr>\n",
       "    <tr>\n",
       "      <th>1</th>\n",
       "      <td>251</td>\n",
       "      <td>0.776</td>\n",
       "      <td>0.914</td>\n",
       "      <td>-0.494</td>\n",
       "      <td>1.347</td>\n",
       "      <td>-0.867</td>\n",
       "      <td>0.480</td>\n",
       "      <td>0.578</td>\n",
       "      <td>-0.313</td>\n",
       "      <td>0.203</td>\n",
       "      <td>...</td>\n",
       "      <td>-0.683</td>\n",
       "      <td>-0.066</td>\n",
       "      <td>0.025</td>\n",
       "      <td>0.606</td>\n",
       "      <td>-0.353</td>\n",
       "      <td>-1.133</td>\n",
       "      <td>-3.138</td>\n",
       "      <td>0.281</td>\n",
       "      <td>-0.625</td>\n",
       "      <td>-0.761</td>\n",
       "    </tr>\n",
       "  </tbody>\n",
       "</table>\n",
       "<p>2 rows × 301 columns</p>\n",
       "</div>"
      ],
      "text/plain": [
       "    id      0      1      2      3      4      5      6      7      8  ...  \\\n",
       "0  250  0.500 -1.033 -1.595  0.309 -0.714  0.502  0.535 -0.129 -0.687  ...   \n",
       "1  251  0.776  0.914 -0.494  1.347 -0.867  0.480  0.578 -0.313  0.203  ...   \n",
       "\n",
       "     290    291    292    293    294    295    296    297    298    299  \n",
       "0 -0.088 -2.628 -0.845  2.078 -0.277  2.132  0.609 -0.104  0.312  0.979  \n",
       "1 -0.683 -0.066  0.025  0.606 -0.353 -1.133 -3.138  0.281 -0.625 -0.761  \n",
       "\n",
       "[2 rows x 301 columns]"
      ]
     },
     "execution_count": 3,
     "metadata": {},
     "output_type": "execute_result"
    }
   ],
   "source": [
    "test_df = pd.read_csv(\"../data/test.csv\")\n",
    "test_df.head(2)"
   ]
  },
  {
   "cell_type": "markdown",
   "id": "3a73ad03",
   "metadata": {},
   "source": [
    "## 2.3 Splitting the train-data into dependent and inde-dependent features."
   ]
  },
  {
   "cell_type": "code",
   "execution_count": 4,
   "id": "d3e4ebad",
   "metadata": {},
   "outputs": [
    {
     "name": "stdout",
     "output_type": "stream",
     "text": [
      "Shape of input data:  (250, 300)\n",
      "**************************************************\n",
      "Shape of target data:  (250,)\n",
      "**************************************************\n",
      "Unique values in the target:  [1. 0.]\n"
     ]
    }
   ],
   "source": [
    "x = df.drop(columns=[\"id\",\"target\"])\n",
    "y = df.target\n",
    "print(\"Shape of input data: \", x.shape)\n",
    "print(\"*\"*50)\n",
    "print(\"Shape of target data: \", y.shape)\n",
    "print(\"*\"*50)\n",
    "print(\"Unique values in the target: \", y.unique())"
   ]
  },
  {
   "cell_type": "markdown",
   "id": "56e72ab8",
   "metadata": {},
   "source": [
    "# 3. Feature Engineering"
   ]
  },
  {
   "cell_type": "markdown",
   "id": "316a3800",
   "metadata": {},
   "source": [
    "## 3.1 Finding feature groups."
   ]
  },
  {
   "cell_type": "markdown",
   "id": "acbff704",
   "metadata": {},
   "source": [
    "**So, the idea of this feature engineering technique is there are gropus of similar features, and it considers a good idea to generate new features based on these groups by calculating some statstic on these groups.** "
   ]
  },
  {
   "cell_type": "code",
   "execution_count": 5,
   "id": "8883a950",
   "metadata": {},
   "outputs": [
    {
     "data": {
      "text/plain": [
       "[]"
      ]
     },
     "execution_count": 5,
     "metadata": {},
     "output_type": "execute_result"
    },
    {
     "data": {
      "image/png": "[encoded data removed]",
      "text/plain": [
       "<Figure size 360x360 with 1 Axes>"
      ]
     },
     "metadata": {
      "needs_background": "light"
     },
     "output_type": "display_data"
    }
   ],
   "source": [
    "fig = plt.figure(figsize=(5,5))\n",
    "\n",
    "x.mean().sort_values().plot(style = \".\")\n",
    "plt.title(\"plot between feature mean and feature\")\n",
    "plt.xlabel(\"Feature\")\n",
    "plt.ylabel(\"Feature mean\")\n",
    "plt.plot()"
   ]
  },
  {
   "cell_type": "code",
   "execution_count": 6,
   "id": "d32c88cc",
   "metadata": {
    "scrolled": true
   },
   "outputs": [
    {
     "data": {
      "text/plain": [
       "74    -0.117244\n",
       "119   -0.116228\n",
       "66    -0.114680\n",
       "147   -0.113868\n",
       "175   -0.113800\n",
       "         ...   \n",
       "251    0.092040\n",
       "233    0.092460\n",
       "34     0.093852\n",
       "186    0.095228\n",
       "282    0.098476\n",
       "Length: 277, dtype: float64"
      ]
     },
     "execution_count": 6,
     "metadata": {},
     "output_type": "execute_result"
    }
   ],
   "source": [
    "((x.mean().sort_values()[11:288]))\n",
    "\n",
    "## first group: 11:288\n",
    "## second group: 2:11\n",
    "## third group: 288:293\n",
    "## fourth group: 293: 295"
   ]
  },
  {
   "cell_type": "markdown",
   "id": "528662b7",
   "metadata": {},
   "source": [
    "### Observation(s):\n",
    "- There is one big group of 277 similar features observed in the above plot."
   ]
  },
  {
   "cell_type": "code",
   "execution_count": 7,
   "id": "f19e8e85",
   "metadata": {},
   "outputs": [
    {
     "name": "stdout",
     "output_type": "stream",
     "text": [
      "[[  0  45]\n",
      " [  1 101]\n",
      " [  2  22]\n",
      " [  3  40]\n",
      " [  4  42]]\n"
     ]
    }
   ],
   "source": [
    "from sklearn.cluster import KMeans\n",
    "\n",
    "kmeans = KMeans(n_clusters=5, random_state=0).fit(x)\n",
    "unique, counts = np.unique(kmeans.labels_, return_counts=True)\n",
    "print(np.asarray((unique, counts)).T)"
   ]
  },
  {
   "cell_type": "code",
   "execution_count": 8,
   "id": "a94ba6a1",
   "metadata": {},
   "outputs": [],
   "source": [
    "def feature_engg(df,data):\n",
    "    \"\"\"\n",
    "    Genrating new features by computing stats on the feature group/ similar features.\n",
    "    \"\"\"\n",
    "    statistics  = pd.DataFrame()\n",
    "    \n",
    "    statistics[\"mean\"] = df.mean(axis=1)\n",
    "    statistics[\"kurt\"] = df.kurt(axis=1)\n",
    "    statistics[\"mad\"] =  df.mad(axis=1)\n",
    "    statistics[\"median\"] =  df.median(axis=1)\n",
    "    statistics[\"max\"] =  df.max(axis=1)\n",
    "    statistics[\"min\"] =  df.min(axis=1)\n",
    "    statistics[\"skew\"] =  df.skew(axis=1)\n",
    "    statistics[\"sem\"] =  df.sem(axis=1)\n",
    "    \n",
    "    # clustering the whole data into 5 clusters and using cluster values as FE.\n",
    "    from sklearn.cluster import KMeans\n",
    "    kmeans = KMeans(n_clusters=5, random_state=0).fit(df)\n",
    "    statistics[\"cluster_values\"] = kmeans.labels_\n",
    "    \n",
    "    # computing min, max and mean of instances to their 5-NN as FE\n",
    "    from sklearn.neighbors import NearestNeighbors\n",
    "    neigh = NearestNeighbors()\n",
    "    neigh.fit(df)\n",
    "    dists, _ = neigh.kneighbors(df, n_neighbors=5)\n",
    "    dists = np.delete(dists, 0, 1)\n",
    "    statistics['minDist'] = dists.mean(axis=1)\n",
    "    statistics['maxDist'] = dists.max(axis=1)\n",
    "    statistics['meanDist'] = dists.min(axis=1)\n",
    "\n",
    "    X = pd.concat([data, statistics], axis=1)\n",
    "    return X"
   ]
  },
  {
   "cell_type": "code",
   "execution_count": 10,
   "id": "e006b643",
   "metadata": {
    "scrolled": false
   },
   "outputs": [
    {
     "data": {
      "text/html": [
       "<div>\n",
       "<style scoped>\n",
       "    .dataframe tbody tr th:only-of-type {\n",
       "        vertical-align: middle;\n",
       "    }\n",
       "\n",
       "    .dataframe tbody tr th {\n",
       "        vertical-align: top;\n",
       "    }\n",
       "\n",
       "    .dataframe thead th {\n",
       "        text-align: right;\n",
       "    }\n",
       "</style>\n",
       "<table border=\"1\" class=\"dataframe\">\n",
       "  <thead>\n",
       "    <tr style=\"text-align: right;\">\n",
       "      <th></th>\n",
       "      <th>0</th>\n",
       "      <th>1</th>\n",
       "      <th>2</th>\n",
       "      <th>3</th>\n",
       "      <th>4</th>\n",
       "      <th>5</th>\n",
       "      <th>6</th>\n",
       "      <th>7</th>\n",
       "      <th>8</th>\n",
       "      <th>9</th>\n",
       "      <th>...</th>\n",
       "      <th>mad</th>\n",
       "      <th>median</th>\n",
       "      <th>max</th>\n",
       "      <th>min</th>\n",
       "      <th>skew</th>\n",
       "      <th>sem</th>\n",
       "      <th>cluster_values</th>\n",
       "      <th>minDist</th>\n",
       "      <th>maxDist</th>\n",
       "      <th>meanDist</th>\n",
       "    </tr>\n",
       "  </thead>\n",
       "  <tbody>\n",
       "    <tr>\n",
       "      <th>0</th>\n",
       "      <td>-0.098</td>\n",
       "      <td>2.165</td>\n",
       "      <td>0.681</td>\n",
       "      <td>-0.614</td>\n",
       "      <td>1.309</td>\n",
       "      <td>-0.455</td>\n",
       "      <td>-0.236</td>\n",
       "      <td>0.276</td>\n",
       "      <td>-2.246</td>\n",
       "      <td>1.825</td>\n",
       "      <td>...</td>\n",
       "      <td>0.910098</td>\n",
       "      <td>-0.057</td>\n",
       "      <td>2.929</td>\n",
       "      <td>-2.851</td>\n",
       "      <td>0.016958</td>\n",
       "      <td>0.066556</td>\n",
       "      <td>2</td>\n",
       "      <td>22.946820</td>\n",
       "      <td>23.109234</td>\n",
       "      <td>22.616754</td>\n",
       "    </tr>\n",
       "    <tr>\n",
       "      <th>1</th>\n",
       "      <td>1.081</td>\n",
       "      <td>-0.973</td>\n",
       "      <td>-0.383</td>\n",
       "      <td>0.326</td>\n",
       "      <td>-0.428</td>\n",
       "      <td>0.317</td>\n",
       "      <td>1.172</td>\n",
       "      <td>0.352</td>\n",
       "      <td>0.004</td>\n",
       "      <td>-0.291</td>\n",
       "      <td>...</td>\n",
       "      <td>0.774677</td>\n",
       "      <td>0.066</td>\n",
       "      <td>2.907</td>\n",
       "      <td>-2.771</td>\n",
       "      <td>-0.132574</td>\n",
       "      <td>0.058468</td>\n",
       "      <td>2</td>\n",
       "      <td>21.238207</td>\n",
       "      <td>21.376524</td>\n",
       "      <td>20.940463</td>\n",
       "    </tr>\n",
       "  </tbody>\n",
       "</table>\n",
       "<p>2 rows × 312 columns</p>\n",
       "</div>"
      ],
      "text/plain": [
       "       0      1      2      3      4      5      6      7      8      9  ...  \\\n",
       "0 -0.098  2.165  0.681 -0.614  1.309 -0.455 -0.236  0.276 -2.246  1.825  ...   \n",
       "1  1.081 -0.973 -0.383  0.326 -0.428  0.317  1.172  0.352  0.004 -0.291  ...   \n",
       "\n",
       "        mad  median    max    min      skew       sem  cluster_values  \\\n",
       "0  0.910098  -0.057  2.929 -2.851  0.016958  0.066556               2   \n",
       "1  0.774677   0.066  2.907 -2.771 -0.132574  0.058468               2   \n",
       "\n",
       "     minDist    maxDist   meanDist  \n",
       "0  22.946820  23.109234  22.616754  \n",
       "1  21.238207  21.376524  20.940463  \n",
       "\n",
       "[2 rows x 312 columns]"
      ]
     },
     "execution_count": 10,
     "metadata": {},
     "output_type": "execute_result"
    }
   ],
   "source": [
    "fe_1 = feature_engg(x.loc[:,list(x.mean().sort_values()[11:288].index)],x)\n",
    "fe_1.head(2)"
   ]
  },
  {
   "cell_type": "code",
   "execution_count": 11,
   "id": "5af2868f",
   "metadata": {
    "scrolled": true
   },
   "outputs": [
    {
     "data": {
      "text/html": [
       "<div>\n",
       "<style scoped>\n",
       "    .dataframe tbody tr th:only-of-type {\n",
       "        vertical-align: middle;\n",
       "    }\n",
       "\n",
       "    .dataframe tbody tr th {\n",
       "        vertical-align: top;\n",
       "    }\n",
       "\n",
       "    .dataframe thead th {\n",
       "        text-align: right;\n",
       "    }\n",
       "</style>\n",
       "<table border=\"1\" class=\"dataframe\">\n",
       "  <thead>\n",
       "    <tr style=\"text-align: right;\">\n",
       "      <th></th>\n",
       "      <th>0</th>\n",
       "      <th>1</th>\n",
       "      <th>2</th>\n",
       "      <th>3</th>\n",
       "      <th>4</th>\n",
       "      <th>5</th>\n",
       "      <th>6</th>\n",
       "      <th>7</th>\n",
       "      <th>8</th>\n",
       "      <th>9</th>\n",
       "      <th>...</th>\n",
       "      <th>mad</th>\n",
       "      <th>median</th>\n",
       "      <th>max</th>\n",
       "      <th>min</th>\n",
       "      <th>skew</th>\n",
       "      <th>sem</th>\n",
       "      <th>cluster_values</th>\n",
       "      <th>minDist</th>\n",
       "      <th>maxDist</th>\n",
       "      <th>meanDist</th>\n",
       "    </tr>\n",
       "  </thead>\n",
       "  <tbody>\n",
       "    <tr>\n",
       "      <th>0</th>\n",
       "      <td>0.500</td>\n",
       "      <td>-1.033</td>\n",
       "      <td>-1.595</td>\n",
       "      <td>0.309</td>\n",
       "      <td>-0.714</td>\n",
       "      <td>0.502</td>\n",
       "      <td>0.535</td>\n",
       "      <td>-0.129</td>\n",
       "      <td>-0.687</td>\n",
       "      <td>1.291</td>\n",
       "      <td>...</td>\n",
       "      <td>0.794220</td>\n",
       "      <td>0.262</td>\n",
       "      <td>3.472</td>\n",
       "      <td>-2.174</td>\n",
       "      <td>0.102823</td>\n",
       "      <td>0.058687</td>\n",
       "      <td>1</td>\n",
       "      <td>20.065607</td>\n",
       "      <td>20.316209</td>\n",
       "      <td>19.764365</td>\n",
       "    </tr>\n",
       "    <tr>\n",
       "      <th>1</th>\n",
       "      <td>0.776</td>\n",
       "      <td>0.914</td>\n",
       "      <td>-0.494</td>\n",
       "      <td>1.347</td>\n",
       "      <td>-0.867</td>\n",
       "      <td>0.480</td>\n",
       "      <td>0.578</td>\n",
       "      <td>-0.313</td>\n",
       "      <td>0.203</td>\n",
       "      <td>1.356</td>\n",
       "      <td>...</td>\n",
       "      <td>0.850657</td>\n",
       "      <td>-0.052</td>\n",
       "      <td>2.639</td>\n",
       "      <td>-3.138</td>\n",
       "      <td>0.041626</td>\n",
       "      <td>0.062853</td>\n",
       "      <td>4</td>\n",
       "      <td>20.888684</td>\n",
       "      <td>21.067379</td>\n",
       "      <td>20.701981</td>\n",
       "    </tr>\n",
       "  </tbody>\n",
       "</table>\n",
       "<p>2 rows × 312 columns</p>\n",
       "</div>"
      ],
      "text/plain": [
       "       0      1      2      3      4      5      6      7      8      9  ...  \\\n",
       "0  0.500 -1.033 -1.595  0.309 -0.714  0.502  0.535 -0.129 -0.687  1.291  ...   \n",
       "1  0.776  0.914 -0.494  1.347 -0.867  0.480  0.578 -0.313  0.203  1.356  ...   \n",
       "\n",
       "        mad  median    max    min      skew       sem  cluster_values  \\\n",
       "0  0.794220   0.262  3.472 -2.174  0.102823  0.058687               1   \n",
       "1  0.850657  -0.052  2.639 -3.138  0.041626  0.062853               4   \n",
       "\n",
       "     minDist    maxDist   meanDist  \n",
       "0  20.065607  20.316209  19.764365  \n",
       "1  20.888684  21.067379  20.701981  \n",
       "\n",
       "[2 rows x 312 columns]"
      ]
     },
     "execution_count": 11,
     "metadata": {},
     "output_type": "execute_result"
    }
   ],
   "source": [
    "test_fe_1 = feature_engg(test_df.drop(columns=[\"id\"]).loc[:,list(x.mean().sort_values()[11:288].index)],test_df.drop(columns=[\"id\"]))\n",
    "test_fe_1.head(2)"
   ]
  },
  {
   "cell_type": "code",
   "execution_count": 12,
   "id": "9664c011",
   "metadata": {},
   "outputs": [
    {
     "data": {
      "text/html": [
       "<div>\n",
       "<style scoped>\n",
       "    .dataframe tbody tr th:only-of-type {\n",
       "        vertical-align: middle;\n",
       "    }\n",
       "\n",
       "    .dataframe tbody tr th {\n",
       "        vertical-align: top;\n",
       "    }\n",
       "\n",
       "    .dataframe thead th {\n",
       "        text-align: right;\n",
       "    }\n",
       "</style>\n",
       "<table border=\"1\" class=\"dataframe\">\n",
       "  <thead>\n",
       "    <tr style=\"text-align: right;\">\n",
       "      <th></th>\n",
       "      <th>0</th>\n",
       "      <th>1</th>\n",
       "      <th>2</th>\n",
       "      <th>3</th>\n",
       "      <th>4</th>\n",
       "      <th>5</th>\n",
       "      <th>6</th>\n",
       "      <th>7</th>\n",
       "      <th>8</th>\n",
       "      <th>9</th>\n",
       "      <th>...</th>\n",
       "      <th>mad</th>\n",
       "      <th>median</th>\n",
       "      <th>max</th>\n",
       "      <th>min</th>\n",
       "      <th>skew</th>\n",
       "      <th>sem</th>\n",
       "      <th>cluster_values</th>\n",
       "      <th>minDist</th>\n",
       "      <th>maxDist</th>\n",
       "      <th>meanDist</th>\n",
       "    </tr>\n",
       "  </thead>\n",
       "  <tbody>\n",
       "    <tr>\n",
       "      <th>0</th>\n",
       "      <td>-0.098</td>\n",
       "      <td>2.165</td>\n",
       "      <td>0.681</td>\n",
       "      <td>-0.614</td>\n",
       "      <td>1.309</td>\n",
       "      <td>-0.455</td>\n",
       "      <td>-0.236</td>\n",
       "      <td>0.276</td>\n",
       "      <td>-2.246</td>\n",
       "      <td>1.825</td>\n",
       "      <td>...</td>\n",
       "      <td>0.892740</td>\n",
       "      <td>-0.0505</td>\n",
       "      <td>2.929</td>\n",
       "      <td>-2.851</td>\n",
       "      <td>0.037492</td>\n",
       "      <td>0.062883</td>\n",
       "      <td>1</td>\n",
       "      <td>23.642639</td>\n",
       "      <td>23.882662</td>\n",
       "      <td>23.158032</td>\n",
       "    </tr>\n",
       "    <tr>\n",
       "      <th>1</th>\n",
       "      <td>1.081</td>\n",
       "      <td>-0.973</td>\n",
       "      <td>-0.383</td>\n",
       "      <td>0.326</td>\n",
       "      <td>-0.428</td>\n",
       "      <td>0.317</td>\n",
       "      <td>1.172</td>\n",
       "      <td>0.352</td>\n",
       "      <td>0.004</td>\n",
       "      <td>-0.291</td>\n",
       "      <td>...</td>\n",
       "      <td>0.788005</td>\n",
       "      <td>0.0745</td>\n",
       "      <td>2.907</td>\n",
       "      <td>-2.771</td>\n",
       "      <td>-0.214699</td>\n",
       "      <td>0.056917</td>\n",
       "      <td>3</td>\n",
       "      <td>22.462934</td>\n",
       "      <td>22.635361</td>\n",
       "      <td>22.343140</td>\n",
       "    </tr>\n",
       "  </tbody>\n",
       "</table>\n",
       "<p>2 rows × 312 columns</p>\n",
       "</div>"
      ],
      "text/plain": [
       "       0      1      2      3      4      5      6      7      8      9  ...  \\\n",
       "0 -0.098  2.165  0.681 -0.614  1.309 -0.455 -0.236  0.276 -2.246  1.825  ...   \n",
       "1  1.081 -0.973 -0.383  0.326 -0.428  0.317  1.172  0.352  0.004 -0.291  ...   \n",
       "\n",
       "        mad  median    max    min      skew       sem  cluster_values  \\\n",
       "0  0.892740 -0.0505  2.929 -2.851  0.037492  0.062883               1   \n",
       "1  0.788005  0.0745  2.907 -2.771 -0.214699  0.056917               3   \n",
       "\n",
       "     minDist    maxDist   meanDist  \n",
       "0  23.642639  23.882662  23.158032  \n",
       "1  22.462934  22.635361  22.343140  \n",
       "\n",
       "[2 rows x 312 columns]"
      ]
     },
     "execution_count": 12,
     "metadata": {},
     "output_type": "execute_result"
    }
   ],
   "source": [
    "fe_2 = feature_engg(x,x)\n",
    "fe_2.head(2)"
   ]
  },
  {
   "cell_type": "code",
   "execution_count": 13,
   "id": "0576a28c",
   "metadata": {},
   "outputs": [
    {
     "data": {
      "text/html": [
       "<div>\n",
       "<style scoped>\n",
       "    .dataframe tbody tr th:only-of-type {\n",
       "        vertical-align: middle;\n",
       "    }\n",
       "\n",
       "    .dataframe tbody tr th {\n",
       "        vertical-align: top;\n",
       "    }\n",
       "\n",
       "    .dataframe thead th {\n",
       "        text-align: right;\n",
       "    }\n",
       "</style>\n",
       "<table border=\"1\" class=\"dataframe\">\n",
       "  <thead>\n",
       "    <tr style=\"text-align: right;\">\n",
       "      <th></th>\n",
       "      <th>0</th>\n",
       "      <th>1</th>\n",
       "      <th>2</th>\n",
       "      <th>3</th>\n",
       "      <th>4</th>\n",
       "      <th>5</th>\n",
       "      <th>6</th>\n",
       "      <th>7</th>\n",
       "      <th>8</th>\n",
       "      <th>9</th>\n",
       "      <th>...</th>\n",
       "      <th>mad</th>\n",
       "      <th>median</th>\n",
       "      <th>max</th>\n",
       "      <th>min</th>\n",
       "      <th>skew</th>\n",
       "      <th>sem</th>\n",
       "      <th>cluster_values</th>\n",
       "      <th>minDist</th>\n",
       "      <th>maxDist</th>\n",
       "      <th>meanDist</th>\n",
       "    </tr>\n",
       "  </thead>\n",
       "  <tbody>\n",
       "    <tr>\n",
       "      <th>0</th>\n",
       "      <td>0.500</td>\n",
       "      <td>-1.033</td>\n",
       "      <td>-1.595</td>\n",
       "      <td>0.309</td>\n",
       "      <td>-0.714</td>\n",
       "      <td>0.502</td>\n",
       "      <td>0.535</td>\n",
       "      <td>-0.129</td>\n",
       "      <td>-0.687</td>\n",
       "      <td>1.291</td>\n",
       "      <td>...</td>\n",
       "      <td>0.793762</td>\n",
       "      <td>0.2175</td>\n",
       "      <td>3.472</td>\n",
       "      <td>-2.628</td>\n",
       "      <td>0.035823</td>\n",
       "      <td>0.056743</td>\n",
       "      <td>3</td>\n",
       "      <td>21.416977</td>\n",
       "      <td>21.504622</td>\n",
       "      <td>21.248050</td>\n",
       "    </tr>\n",
       "    <tr>\n",
       "      <th>1</th>\n",
       "      <td>0.776</td>\n",
       "      <td>0.914</td>\n",
       "      <td>-0.494</td>\n",
       "      <td>1.347</td>\n",
       "      <td>-0.867</td>\n",
       "      <td>0.480</td>\n",
       "      <td>0.578</td>\n",
       "      <td>-0.313</td>\n",
       "      <td>0.203</td>\n",
       "      <td>1.356</td>\n",
       "      <td>...</td>\n",
       "      <td>0.850026</td>\n",
       "      <td>-0.0455</td>\n",
       "      <td>2.639</td>\n",
       "      <td>-3.138</td>\n",
       "      <td>-0.018248</td>\n",
       "      <td>0.060466</td>\n",
       "      <td>0</td>\n",
       "      <td>21.848598</td>\n",
       "      <td>21.951837</td>\n",
       "      <td>21.702516</td>\n",
       "    </tr>\n",
       "  </tbody>\n",
       "</table>\n",
       "<p>2 rows × 312 columns</p>\n",
       "</div>"
      ],
      "text/plain": [
       "       0      1      2      3      4      5      6      7      8      9  ...  \\\n",
       "0  0.500 -1.033 -1.595  0.309 -0.714  0.502  0.535 -0.129 -0.687  1.291  ...   \n",
       "1  0.776  0.914 -0.494  1.347 -0.867  0.480  0.578 -0.313  0.203  1.356  ...   \n",
       "\n",
       "        mad  median    max    min      skew       sem  cluster_values  \\\n",
       "0  0.793762  0.2175  3.472 -2.628  0.035823  0.056743               3   \n",
       "1  0.850026 -0.0455  2.639 -3.138 -0.018248  0.060466               0   \n",
       "\n",
       "     minDist    maxDist   meanDist  \n",
       "0  21.416977  21.504622  21.248050  \n",
       "1  21.848598  21.951837  21.702516  \n",
       "\n",
       "[2 rows x 312 columns]"
      ]
     },
     "execution_count": 13,
     "metadata": {},
     "output_type": "execute_result"
    }
   ],
   "source": [
    "test_fe_2 = feature_engg(test_df.drop(columns=[\"id\"]),test_df.drop(columns=[\"id\"]))\n",
    "test_fe_2.head(2)"
   ]
  },
  {
   "cell_type": "markdown",
   "id": "f6099c59",
   "metadata": {},
   "source": [
    "# 4. Modeling"
   ]
  },
  {
   "cell_type": "markdown",
   "id": "6238ea1b",
   "metadata": {},
   "source": [
    "## 4.1 Helper Funtions\n"
   ]
  },
  {
   "cell_type": "code",
   "execution_count": 6,
   "id": "36310cb1",
   "metadata": {},
   "outputs": [],
   "source": [
    "from sklearn.naive_bayes import GaussianNB\n",
    "from sklearn.metrics import roc_auc_score\n",
    "from sklearn.model_selection import GridSearchCV\n",
    "from sklearn.linear_model import LogisticRegression\n",
    "from sklearn.svm import SVC\n",
    "from sklearn import linear_model\n",
    "from sklearn.linear_model import QuantileRegressor\n",
    "\n",
    "\n",
    "def modelling(model,model_name,params,X,y,test_data,test_ids,file):\n",
    "    \"\"\"\n",
    "    \n",
    "    \"\"\"\n",
    "    print(\"*\"*100)\n",
    "    print(\"Applying {0}....\".format(model_name))\n",
    "    grid_search = GridSearchCV(estimator=model,param_grid=params,cv=10,n_jobs=-1,scoring=\"roc_auc\")\n",
    "    grid_search.fit(X,y)\n",
    "    print(\"Best Hyper-parameters achieved: \", grid_search.best_params_)\n",
    "    # predicting train values with the best-estimator:\n",
    "    if model_name in [\"logistic_regression\",\"svm\"]:\n",
    "        y_pred = grid_search.best_estimator_.predict_proba(X)[:,1]\n",
    "    else:\n",
    "        y_pred = grid_search.best_estimator_.predict(X)\n",
    "        \n",
    "    score = roc_auc_score(y,y_pred)\n",
    "    print(\"ROC achieved on train set using {0}: \".format(model_name), score)\n",
    "    # predicting test values with the best-estimator\n",
    "    print(\"Predicting on test data and saving the results.\")\n",
    "    if model_name in [\"logistic_regression\",\"svm\"]:\n",
    "        pred  = grid_search.best_estimator_.predict_proba(test_data)[:,1]\n",
    "    else:\n",
    "        pred = grid_search.best_estimator_.predict(test_data)\n",
    "        \n",
    "    submission = pd.DataFrame({'id':test_ids,'target':pred})\n",
    "    submission.to_csv(\"{0}/submission_{1}.csv\".format(file,model_name),index = False)\n",
    "    print(\"DONE!!\")\n",
    "    print(\"*\"*100)\n",
    "    print()\n",
    "    print()\n",
    "    \n",
    "    \n",
    "def apply_models(X,y,test_data,test_ids,file):\n",
    "    \"\"\"\n",
    "    \n",
    "    \"\"\"\n",
    "    \n",
    "    # define Models\n",
    "    \n",
    "    ## Lasso Regression\n",
    "    params = {\"alpha\":np.arange(0,1.01,0.01)}\n",
    "    model = linear_model.Lasso()\n",
    "    modelling(model,\"Lasso_Regression\",params,X,y,test_data,test_ids,file)\n",
    "    \n",
    "    \n",
    "    ## Ridge Regression\n",
    "    model = linear_model.Ridge()\n",
    "    modelling(model,\"Ridge_Regression\",params,X,y,test_data,test_ids,file)\n",
    "    \n",
    "    ## Elastic Net Regression\n",
    "    params_en = {\"alpha\":[1e-5, 1e-4, 1e-3, 1e-2, 1e-1, 0.0, 1.0, 10.0, 100.0],\n",
    "                \"l1_ratio\":np.arange(0,1.01,0.01)}\n",
    "    model = linear_model.ElasticNet()\n",
    "    modelling(model,\"ElasticNet_Regression\",params_en,X,y,test_data,test_ids,file)\n",
    "    \n",
    "    ## LASSOCV Regression\n",
    "    print(\"*\"*100)\n",
    "    print(\"Applying LASSOCV Regression...\")\n",
    "    model = linear_model.LassoCV(cv=10,n_jobs=-1).fit(X,y)\n",
    "    # predicting train values with the best-estimator:\n",
    "    y_pred = model.predict(X)\n",
    "    score = roc_auc_score(y,y_pred)\n",
    "    print(\"ROC achieved on train set using LASSOCV is: \", score)\n",
    "    # predicting test values with the best-estimator\n",
    "    print(\"Predicting on test data and saving the results.\")\n",
    "    pred  = model.predict(test_data)\n",
    "    submission = pd.DataFrame({'id':test_ids,'target':pred})\n",
    "    submission.to_csv(\"{0}/submission_LASSOCV.csv\".format(file),index = False)\n",
    "    print(\"DONE!!\")\n",
    "    print(\"*\"*100)\n",
    "    print()\n",
    "    print()\n",
    "    \n",
    "    ## LARSCV Regression\n",
    "    print(\"*\"*100)\n",
    "    print(\"Applying LARSCV Regression...\")\n",
    "    model = linear_model.LarsCV(cv=10,n_jobs=-1).fit(X,y)\n",
    "    # predicting train values with the best-estimator:\n",
    "    y_pred = model.predict(X)\n",
    "    score = roc_auc_score(y,y_pred)\n",
    "    print(\"ROC achieved on train set using LARSCV is: \", score)\n",
    "    # predicting test values with the best-estimator\n",
    "    print(\"Predicting on test data and saving the results.\")\n",
    "    pred  = model.predict(test_data)\n",
    "    submission = pd.DataFrame({'id':test_ids,'target':pred})\n",
    "    submission.to_csv(\"{0}/submission_LARSCV.csv\".format(file),index = False)\n",
    "    print(\"DONE!!\")\n",
    "    print(\"*\"*100)\n",
    "    print()\n",
    "    print()\n",
    "    \n",
    "    ## Bayesian Ridge Regression\n",
    "    print(\"*\"*100)\n",
    "    print(\"Applying Bayesian Ridge Regression...\")\n",
    "    model = linear_model.BayesianRidge().fit(X,y)\n",
    "    # predicting train values with the best-estimator:\n",
    "    y_pred = model.predict(X)\n",
    "    score = roc_auc_score(y,y_pred)\n",
    "    print(\"ROC achieved on train set using bayesian ridge is: \", score)\n",
    "    # predicting test values with the best-estimator\n",
    "    print(\"Predicting on test data and saving the results.\")\n",
    "    pred  = model.predict(test_data)\n",
    "    submission = pd.DataFrame({'id':test_ids,'target':pred})\n",
    "    submission.to_csv(\"{0}/submission_bayesian_ridge.csv\".format(file),index = False)\n",
    "    print(\"DONE!!\")\n",
    "    print(\"*\"*100)\n",
    "    print()\n",
    "    print()\n",
    "    \n",
    "    ## ARD Regression\n",
    "    print(\"*\"*100)\n",
    "    print(\"Applying ARD Regression...\")\n",
    "    model = linear_model.ARDRegression().fit(X,y)\n",
    "    # predicting train values with the best-estimator:\n",
    "    y_pred = model.predict(X)\n",
    "    score = roc_auc_score(y,y_pred)\n",
    "    print(\"ROC achieved on train set using ARD Regression is: \", score)\n",
    "    # predicting test values with the best-estimator\n",
    "    print(\"Predicting on test data and saving the results.\")\n",
    "    pred  = model.predict(test_data)\n",
    "    submission = pd.DataFrame({'id':test_ids,'target':pred})\n",
    "    submission.to_csv(\"{0}/submission_ard_regression.csv\".format(file),index = False)\n",
    "    print(\"DONE!!\")\n",
    "    print(\"*\"*100)\n",
    "    print()\n",
    "    print()\n",
    "    ## Gaussian NB\n",
    "    param_grid_nb = {\n",
    "    'var_smoothing': np.logspace(0,-9, num=100)\n",
    "    }\n",
    "    model = GaussianNB()\n",
    "    modelling(model,\"Gaussian_NB\",param_grid_nb,X,y,test_data,test_ids,file)\n",
    "    \n",
    "    ## Logistic Regression\n",
    "    params_lr = {\"penalty\":[\"l1\",\"l2\"], \"C\":[0.000001,0.00001,0.0001,0.001,0.01,0.1,1,10,100,1000],\n",
    "                \"class_weight\":[\"balanced\",None]}\n",
    "    lr = LogisticRegression(solver = \"liblinear\")\n",
    "    \n",
    "    modelling(lr,\"logistic_regression\",params_lr,X,y,test_data,test_ids,file)\n",
    "    \n",
    "    ## SVM\n",
    "    params_svc = {\"kernel\":[\"rbf\",\"poly\",\"linear\"], \"C\":[0.000001, 0.00001,0.0001,0.001,0.01,0.1,1,10,100],\n",
    "                 \"class_weight\":[\"balanced\",None]}\n",
    "    svc = SVC()\n",
    "    modelling(svc,\"svc\",params_svc,X,y,test_data,test_ids,file)\n",
    "    \n",
    "    ## huber regressor\n",
    "    \n",
    "    params_huber = {\"epsilon\":[1, 1,35, 1.5, 1.75, 1.9]}\n",
    "    huber = linear_model.HuberRegressor()\n",
    "    modelling(huber,\"huber_regressor\",params_huber,X,y,test_data,test_ids,file)\n",
    "    \n",
    "    "
   ]
  },
  {
   "cell_type": "markdown",
   "id": "00f84733",
   "metadata": {},
   "source": [
    "## 4.2  Modelling on train data wihout any pre-processing."
   ]
  },
  {
   "cell_type": "code",
   "execution_count": 33,
   "id": "c8bfe38d",
   "metadata": {
    "scrolled": true
   },
   "outputs": [
    {
     "name": "stdout",
     "output_type": "stream",
     "text": [
      "****************************************************************************************************\n",
      "Applying Lasso_Regression....\n",
      "Best Hyper-parameters achieved:  {'alpha': 0.06}\n",
      "ROC achieved on train set using Lasso_Regression:  0.883888888888889\n",
      "Predicting on test data and saving the results.\n",
      "DONE!!\n",
      "****************************************************************************************************\n",
      "\n",
      "\n",
      "****************************************************************************************************\n",
      "Applying Ridge_Regression....\n",
      "Best Hyper-parameters achieved:  {'alpha': 0.97}\n",
      "ROC achieved on train set using Ridge_Regression:  1.0\n",
      "Predicting on test data and saving the results.\n",
      "DONE!!\n",
      "****************************************************************************************************\n",
      "\n",
      "\n",
      "****************************************************************************************************\n",
      "Applying ElasticNet_Regression....\n",
      "Best Hyper-parameters achieved:  {'alpha': 1.0, 'l1_ratio': 0.03}\n",
      "ROC achieved on train set using ElasticNet_Regression:  0.9839583333333333\n",
      "Predicting on test data and saving the results.\n",
      "DONE!!\n",
      "****************************************************************************************************\n",
      "\n",
      "\n",
      "****************************************************************************************************\n",
      "Applying LASSOCV Regression...\n",
      "ROC achieved on train set using LASSOCV is:  0.9721527777777779\n",
      "Predicting on test data and saving the results.\n",
      "DONE!!\n",
      "****************************************************************************************************\n",
      "\n",
      "\n",
      "****************************************************************************************************\n",
      "Applying LARSCV Regression...\n",
      "ROC achieved on train set using LARSCV is:  0.9918055555555555\n",
      "Predicting on test data and saving the results.\n",
      "DONE!!\n",
      "****************************************************************************************************\n",
      "\n",
      "\n",
      "****************************************************************************************************\n",
      "Applying Bayesian Ridge Regression...\n",
      "ROC achieved on train set using bayesian ridge is:  1.0\n",
      "Predicting on test data and saving the results.\n",
      "DONE!!\n",
      "****************************************************************************************************\n",
      "\n",
      "\n",
      "****************************************************************************************************\n",
      "Applying ARD Regression...\n",
      "ROC achieved on train set using ARD Regression is:  1.0\n",
      "Predicting on test data and saving the results.\n",
      "DONE!!\n",
      "****************************************************************************************************\n",
      "\n",
      "\n",
      "****************************************************************************************************\n",
      "Applying Gaussian_NB....\n",
      "Best Hyper-parameters achieved:  {'var_smoothing': 1.0}\n",
      "ROC achieved on train set using Gaussian_NB:  0.965625\n",
      "Predicting on test data and saving the results.\n",
      "DONE!!\n",
      "****************************************************************************************************\n",
      "\n",
      "\n",
      "****************************************************************************************************\n",
      "Applying logistic_regression....\n",
      "Best Hyper-parameters achieved:  {'C': 0.1, 'class_weight': None, 'penalty': 'l1'}\n",
      "ROC achieved on train set using logistic_regression:  0.9573611111111111\n",
      "Predicting on test data and saving the results.\n",
      "DONE!!\n",
      "****************************************************************************************************\n",
      "\n",
      "\n",
      "****************************************************************************************************\n",
      "Applying svc....\n",
      "Best Hyper-parameters achieved:  {'C': 0.1, 'class_weight': 'balanced', 'kernel': 'linear'}\n",
      "ROC achieved on train set using svc:  1.0\n",
      "Predicting on test data and saving the results.\n",
      "DONE!!\n",
      "****************************************************************************************************\n",
      "\n",
      "\n",
      "****************************************************************************************************\n",
      "Applying huber_regressor....\n",
      "Best Hyper-parameters achieved:  {'epsilon': 1}\n",
      "ROC achieved on train set using huber_regressor:  0.9996527777777777\n",
      "Predicting on test data and saving the results.\n",
      "DONE!!\n",
      "****************************************************************************************************\n",
      "\n",
      "\n"
     ]
    }
   ],
   "source": [
    "apply_models(x,y,test_df.drop(columns=[\"id\"]),test_df.id.values,\"modelling_on_train_data\")"
   ]
  },
  {
   "cell_type": "markdown",
   "id": "e03bbb00",
   "metadata": {},
   "source": [
    "### Results & Oberservation(s)"
   ]
  },
  {
   "cell_type": "code",
   "execution_count": 15,
   "id": "ec958355",
   "metadata": {
    "scrolled": true
   },
   "outputs": [
    {
     "name": "stdout",
     "output_type": "stream",
     "text": [
      "+----------------------------+---------------------+--------------------+\n",
      "|           Model            | train_roc_auc_score | test_roc_auc_score |\n",
      "+----------------------------+---------------------+--------------------+\n",
      "|      Lasso Regression      |         0.88        |       0.832        |\n",
      "|      Ridge Regression      |         0.97        |       0.631        |\n",
      "|   ElasticNet Regression    |         0.98        |       0.827        |\n",
      "|     LASSOCV regression     |         0.97        |       0.845        |\n",
      "|           LARSCV           |         0.99        |        0.83        |\n",
      "| Bayesian Ridge regression  |         1.0         |        0.74        |\n",
      "|       ARD regression       |         1.0         |        0.64        |\n",
      "|        Guassian NB         |         1.0         |        0.66        |\n",
      "|    Logistic regression     |         0.95        |       0.843        |\n",
      "|            SVC             |         1.0         |        0.66        |\n",
      "|      huber_regressor       |         0.99        |       0.643        |\n",
      "+----------------------------+---------------------+--------------------+\n"
     ]
    }
   ],
   "source": [
    "from prettytable import PrettyTable\n",
    "\n",
    "x = PrettyTable()\n",
    "x.field_names = [\"Model\", \"train_roc_auc_score\", \"test_roc_auc_score\"]\n",
    "x.add_row([\"Lasso Regression\", 0.88,0.832])\n",
    "x.add_row([\"Ridge Regression\", 0.97,0.631])\n",
    "x.add_row([\"ElasticNet Regression\", 0.98,0.827])\n",
    "x.add_row([\"LASSOCV regression\", 0.97, 0.845])\n",
    "x.add_row([\"LARSCV\",0.99,0.83])\n",
    "x.add_row([\"Bayesian Ridge regression \", 1.0, 0.74])\n",
    "x.add_row([\"ARD regression\", 1.0, 0.64])\n",
    "x.add_row([\"Guassian NB\", 1.0, 0.66])\n",
    "x.add_row([\"Logistic regression\", 0.95, 0.843])\n",
    "\n",
    "x.add_row([\"SVC\", 1.0, 0.66])\n",
    "x.add_row([\"huber_regressor\", 0.99, 0.643])\n",
    "\n",
    "print(x)\n",
    "\n"
   ]
  },
  {
   "cell_type": "markdown",
   "id": "a17401d6",
   "metadata": {},
   "source": [
    "- Best roc-auc score achieved by **LASSOCV : 0.845** and **logistic regression: 0.843**."
   ]
  },
  {
   "cell_type": "markdown",
   "id": "f64f9099",
   "metadata": {},
   "source": [
    "## 4.3 Modelling on FE data with computing statistics on 1- feature group."
   ]
  },
  {
   "cell_type": "code",
   "execution_count": 182,
   "id": "effa6344",
   "metadata": {
    "scrolled": true
   },
   "outputs": [
    {
     "name": "stdout",
     "output_type": "stream",
     "text": [
      "****************************************************************************************************\n",
      "Applying Lasso_Regression....\n",
      "Best Hyper-parameters achieved:  {'alpha': 0.03}\n",
      "ROC achieved on train set using Lasso_Regression:  0.981388888888889\n",
      "Predicting on test data and saving the results.\n",
      "DONE!!\n",
      "****************************************************************************************************\n",
      "\n",
      "\n",
      "****************************************************************************************************\n",
      "Applying Ridge_Regression....\n",
      "Best Hyper-parameters achieved:  {'alpha': 0.98}\n",
      "ROC achieved on train set using Ridge_Regression:  1.0\n",
      "Predicting on test data and saving the results.\n",
      "DONE!!\n",
      "****************************************************************************************************\n",
      "\n",
      "\n",
      "****************************************************************************************************\n",
      "Applying ElasticNet_Regression....\n",
      "Best Hyper-parameters achieved:  {'alpha': 0.1, 'l1_ratio': 0.09}\n",
      "ROC achieved on train set using ElasticNet_Regression:  1.0\n",
      "Predicting on test data and saving the results.\n",
      "DONE!!\n",
      "****************************************************************************************************\n",
      "\n",
      "\n",
      "****************************************************************************************************\n",
      "Applying LASSOCV Regression...\n",
      "ROC achieved on train set using LASSOCV is:  0.9656944444444444\n",
      "Predicting on test data and saving the results.\n",
      "DONE!!\n",
      "****************************************************************************************************\n",
      "\n",
      "\n",
      "****************************************************************************************************\n",
      "Applying LARSCV Regression...\n",
      "ROC achieved on train set using LARSCV is:  0.9482638888888889\n",
      "Predicting on test data and saving the results.\n",
      "DONE!!\n",
      "****************************************************************************************************\n",
      "\n",
      "\n",
      "****************************************************************************************************\n",
      "Applying Bayesian Ridge Regression...\n",
      "ROC achieved on train set using bayesian ridge is:  1.0\n",
      "Predicting on test data and saving the results.\n",
      "DONE!!\n",
      "****************************************************************************************************\n",
      "\n",
      "\n",
      "****************************************************************************************************\n",
      "Applying ARD Regression...\n",
      "ROC achieved on train set using ARD Regression is:  1.0\n",
      "Predicting on test data and saving the results.\n",
      "DONE!!\n",
      "****************************************************************************************************\n",
      "\n",
      "\n",
      "****************************************************************************************************\n",
      "Applying Gaussian_NB....\n",
      "Best Hyper-parameters achieved:  {'var_smoothing': 1.0}\n",
      "ROC achieved on train set using Gaussian_NB:  0.9625\n",
      "Predicting on test data and saving the results.\n",
      "DONE!!\n",
      "****************************************************************************************************\n",
      "\n",
      "\n",
      "****************************************************************************************************\n",
      "Applying logistic_regression....\n",
      "Best Hyper-parameters achieved:  {'C': 0.1, 'class_weight': 'balanced', 'penalty': 'l1'}\n",
      "ROC achieved on train set using logistic_regression:  0.960625\n",
      "Predicting on test data and saving the results.\n",
      "DONE!!\n",
      "****************************************************************************************************\n",
      "\n",
      "\n",
      "****************************************************************************************************\n",
      "Applying svc....\n",
      "Best Hyper-parameters achieved:  {'C': 0.1, 'class_weight': 'balanced', 'kernel': 'linear'}\n",
      "ROC achieved on train set using svc:  1.0\n",
      "Predicting on test data and saving the results.\n",
      "DONE!!\n",
      "****************************************************************************************************\n",
      "\n",
      "\n",
      "****************************************************************************************************\n",
      "Applying huber_regressor....\n",
      "Best Hyper-parameters achieved:  {'epsilon': 1}\n",
      "ROC achieved on train set using huber_regressor:  1.0\n",
      "Predicting on test data and saving the results.\n",
      "DONE!!\n",
      "****************************************************************************************************\n",
      "\n",
      "\n"
     ]
    }
   ],
   "source": [
    "apply_models(fe_1,y,test_fe_1,test_df.id.values,\"modelling_on_fe_data\")"
   ]
  },
  {
   "cell_type": "markdown",
   "id": "e79fd692",
   "metadata": {},
   "source": [
    "### Results & Observation(s)"
   ]
  },
  {
   "cell_type": "code",
   "execution_count": 183,
   "id": "c16f1fec",
   "metadata": {},
   "outputs": [
    {
     "name": "stdout",
     "output_type": "stream",
     "text": [
      "+----------------------------+---------------------+--------------------+\n",
      "|           Model            | train_roc_auc_score | test_roc_auc_score |\n",
      "+----------------------------+---------------------+--------------------+\n",
      "|      Lasso Regression      |        0.981        |       0.843        |\n",
      "|      Ridge Regression      |         0.98        |        0.63        |\n",
      "|   ElasticNet Regression    |         1.0         |        0.77        |\n",
      "|     LASSOCV regression     |         0.96        |       0.845        |\n",
      "|           LARSCV           |         0.94        |       0.847        |\n",
      "| Bayesian Ridge regression  |         1.0         |        0.74        |\n",
      "|       ARD regression       |         1.0         |       0.634        |\n",
      "|        Guassian NB         |         0.96        |        0.66        |\n",
      "|    Logistic regression     |         0.96        |       0.846        |\n",
      "|            SVC             |         1.0         |        0.66        |\n",
      "|      huber_regressor       |         1.0         |       0.695        |\n",
      "+----------------------------+---------------------+--------------------+\n"
     ]
    }
   ],
   "source": [
    "table = PrettyTable()\n",
    "\n",
    "table.field_names = [\"Model\", \"train_roc_auc_score\", \"test_roc_auc_score\"]\n",
    "table.add_row([\"Lasso Regression\", 0.981,0.843])\n",
    "table.add_row([\"Ridge Regression\", 0.98,0.630])\n",
    "table.add_row([\"ElasticNet Regression\", 1.0,0.77])\n",
    "table.add_row([\"LASSOCV regression\", 0.96, 0.845])\n",
    "table.add_row([\"LARSCV\",0.94,0.847])\n",
    "table.add_row([\"Bayesian Ridge regression \", 1.0, 0.74])\n",
    "table.add_row([\"ARD regression\", 1.0, 0.634])\n",
    "table.add_row([\"Guassian NB\", 0.96, 0.66])\n",
    "table.add_row([\"Logistic regression\", 0.96, 0.846])\n",
    "table.add_row([\"SVC\", 1.0, 0.66])\n",
    "table.add_row([\"huber_regressor\", 1.0, 0.695])\n",
    "\n",
    "print(table)\n"
   ]
  },
  {
   "cell_type": "markdown",
   "id": "9f9ea96f",
   "metadata": {},
   "source": [
    "- Result is almost same as previous modelling results.\n",
    "- Best roc score achived by **LARSCV: 0.847** on test data."
   ]
  },
  {
   "cell_type": "markdown",
   "id": "f9433742",
   "metadata": {},
   "source": [
    "## 4.4 Modelling on FE data with computing statistics on whole train data."
   ]
  },
  {
   "cell_type": "code",
   "execution_count": 187,
   "id": "17a59270",
   "metadata": {
    "scrolled": true
   },
   "outputs": [
    {
     "name": "stdout",
     "output_type": "stream",
     "text": [
      "****************************************************************************************************\n",
      "Applying Lasso_Regression....\n",
      "Best Hyper-parameters achieved:  {'alpha': 0.04}\n",
      "ROC achieved on train set using Lasso_Regression:  0.9570833333333334\n",
      "Predicting on test data and saving the results.\n",
      "DONE!!\n",
      "****************************************************************************************************\n",
      "\n",
      "\n",
      "****************************************************************************************************\n",
      "Applying Ridge_Regression....\n",
      "Best Hyper-parameters achieved:  {'alpha': 1.0}\n",
      "ROC achieved on train set using Ridge_Regression:  1.0\n",
      "Predicting on test data and saving the results.\n",
      "DONE!!\n",
      "****************************************************************************************************\n",
      "\n",
      "\n",
      "****************************************************************************************************\n",
      "Applying ElasticNet_Regression....\n",
      "Best Hyper-parameters achieved:  {'alpha': 1.0, 'l1_ratio': 0.03}\n",
      "ROC achieved on train set using ElasticNet_Regression:  0.9834722222222223\n",
      "Predicting on test data and saving the results.\n",
      "DONE!!\n",
      "****************************************************************************************************\n",
      "\n",
      "\n",
      "****************************************************************************************************\n",
      "Applying LASSOCV Regression...\n",
      "ROC achieved on train set using LASSOCV is:  0.9723611111111111\n",
      "Predicting on test data and saving the results.\n",
      "DONE!!\n",
      "****************************************************************************************************\n",
      "\n",
      "\n",
      "****************************************************************************************************\n",
      "Applying LARSCV Regression...\n",
      "ROC achieved on train set using LARSCV is:  0.9554166666666668\n",
      "Predicting on test data and saving the results.\n",
      "DONE!!\n",
      "****************************************************************************************************\n",
      "\n",
      "\n",
      "****************************************************************************************************\n",
      "Applying Bayesian Ridge Regression...\n",
      "ROC achieved on train set using bayesian ridge is:  1.0\n",
      "Predicting on test data and saving the results.\n",
      "DONE!!\n",
      "****************************************************************************************************\n",
      "\n",
      "\n",
      "****************************************************************************************************\n",
      "Applying ARD Regression...\n",
      "ROC achieved on train set using ARD Regression is:  1.0\n",
      "Predicting on test data and saving the results.\n",
      "DONE!!\n",
      "****************************************************************************************************\n",
      "\n",
      "\n",
      "****************************************************************************************************\n",
      "Applying Gaussian_NB....\n",
      "Best Hyper-parameters achieved:  {'var_smoothing': 0.657933224657568}\n",
      "ROC achieved on train set using Gaussian_NB:  0.96875\n",
      "Predicting on test data and saving the results.\n",
      "DONE!!\n",
      "****************************************************************************************************\n",
      "\n",
      "\n",
      "****************************************************************************************************\n",
      "Applying logistic_regression....\n",
      "Best Hyper-parameters achieved:  {'C': 0.1, 'class_weight': None, 'penalty': 'l1'}\n",
      "ROC achieved on train set using logistic_regression:  0.9556944444444445\n",
      "Predicting on test data and saving the results.\n",
      "DONE!!\n",
      "****************************************************************************************************\n",
      "\n",
      "\n",
      "****************************************************************************************************\n",
      "Applying svc....\n",
      "Best Hyper-parameters achieved:  {'C': 0.1, 'class_weight': 'balanced', 'kernel': 'linear'}\n",
      "ROC achieved on train set using svc:  1.0\n",
      "Predicting on test data and saving the results.\n",
      "DONE!!\n",
      "****************************************************************************************************\n",
      "\n",
      "\n",
      "****************************************************************************************************\n",
      "Applying huber_regressor....\n",
      "Best Hyper-parameters achieved:  {'epsilon': 1}\n",
      "ROC achieved on train set using huber_regressor:  1.0\n",
      "Predicting on test data and saving the results.\n",
      "DONE!!\n",
      "****************************************************************************************************\n",
      "\n",
      "\n"
     ]
    }
   ],
   "source": [
    "apply_models(fe_2,y,test_fe_2,test_df.id.values,\"modelling_on_fe_2_data\")"
   ]
  },
  {
   "cell_type": "code",
   "execution_count": 188,
   "id": "58979193",
   "metadata": {},
   "outputs": [
    {
     "name": "stdout",
     "output_type": "stream",
     "text": [
      "+----------------------------+---------------------+--------------------+\n",
      "|           Model            | train_roc_auc_score | test_roc_auc_score |\n",
      "+----------------------------+---------------------+--------------------+\n",
      "|      Lasso Regression      |         0.95        |       0.847        |\n",
      "|      Ridge Regression      |         1.0         |       0.633        |\n",
      "|   ElasticNet Regression    |         0.98        |       0.827        |\n",
      "|     LASSOCV regression     |         0.97        |       0.845        |\n",
      "|           LARSCV           |         0.95        |       0.831        |\n",
      "| Bayesian Ridge regression  |         1.0         |       0.745        |\n",
      "|       ARD regression       |         1.0         |        0.62        |\n",
      "|        Guassian NB         |         0.96        |        0.66        |\n",
      "|    Logistic regression     |         0.95        |       0.848        |\n",
      "|            SVC             |         1.0         |        0.67        |\n",
      "|      huber_regressor       |         1.0         |        0.7         |\n",
      "+----------------------------+---------------------+--------------------+\n"
     ]
    }
   ],
   "source": [
    "table = PrettyTable()\n",
    "\n",
    "table.field_names = [\"Model\", \"train_roc_auc_score\", \"test_roc_auc_score\"]\n",
    "table.add_row([\"Lasso Regression\", 0.95,0.847])\n",
    "table.add_row([\"Ridge Regression\", 1.0,0.633])\n",
    "table.add_row([\"ElasticNet Regression\", 0.98,0.827])\n",
    "table.add_row([\"LASSOCV regression\", 0.97, 0.845])\n",
    "table.add_row([\"LARSCV\",0.95,0.831])\n",
    "table.add_row([\"Bayesian Ridge regression \", 1.0, 0.745])\n",
    "table.add_row([\"ARD regression\", 1.0, 0.62])\n",
    "table.add_row([\"Guassian NB\", 0.96, 0.66])\n",
    "table.add_row([\"Logistic regression\", 0.95, 0.848])\n",
    "table.add_row([\"SVC\", 1.0, 0.67])\n",
    "table.add_row([\"huber_regressor\", 1.0, 0.70])\n",
    "\n",
    "print(table)\n"
   ]
  },
  {
   "cell_type": "markdown",
   "id": "d77af889",
   "metadata": {},
   "source": [
    "- Results are almost same, no improvment is visible.\n",
    "- Best AUROC score achieved by **Logisitic Regression: 0.848** on test data."
   ]
  },
  {
   "cell_type": "markdown",
   "id": "0c674eb1",
   "metadata": {},
   "source": [
    "## 4.5 Modelling on train data + oversampling minority class using SMOTE technique."
   ]
  },
  {
   "cell_type": "code",
   "execution_count": 143,
   "id": "a188fcac",
   "metadata": {
    "scrolled": true
   },
   "outputs": [
    {
     "name": "stdout",
     "output_type": "stream",
     "text": [
      "Resampled dataset shape Counter({1.0: 160, 0.0: 160})\n"
     ]
    }
   ],
   "source": [
    "from imblearn.over_sampling import SMOTE\n",
    "from collections import Counter\n",
    "\n",
    "sm = SMOTE(random_state=42)\n",
    "X_res,y_res = sm.fit_resample(x, y)\n",
    "print('Resampled dataset shape %s' % Counter(y_res))"
   ]
  },
  {
   "cell_type": "code",
   "execution_count": 134,
   "id": "d9584a97",
   "metadata": {
    "scrolled": true
   },
   "outputs": [
    {
     "name": "stdout",
     "output_type": "stream",
     "text": [
      "****************************************************************************************************\n",
      "Applying Lasso_Regression....\n",
      "Best Hyper-parameters achieved:  {'alpha': 0.0}\n",
      "ROC achieved on train set using Lasso_Regression:  1.0\n",
      "Predicting on test data and saving the results.\n",
      "DONE!!\n",
      "****************************************************************************************************\n",
      "\n",
      "\n",
      "****************************************************************************************************\n",
      "Applying Ridge_Regression....\n",
      "Best Hyper-parameters achieved:  {'alpha': 0.0}\n",
      "ROC achieved on train set using Ridge_Regression:  1.0\n",
      "Predicting on test data and saving the results.\n",
      "DONE!!\n",
      "****************************************************************************************************\n",
      "\n",
      "\n",
      "****************************************************************************************************\n",
      "Applying ElasticNet_Regression....\n",
      "Best Hyper-parameters achieved:  {'alpha': 1e-05, 'l1_ratio': 0.0}\n",
      "ROC achieved on train set using ElasticNet_Regression:  1.0\n",
      "Predicting on test data and saving the results.\n",
      "DONE!!\n",
      "****************************************************************************************************\n",
      "\n",
      "\n",
      "****************************************************************************************************\n",
      "Applying LASSOCV Regression...\n",
      "ROC achieved on train set using LASSOCV is:  1.0\n",
      "Predicting on test data and saving the results.\n",
      "DONE!!\n",
      "****************************************************************************************************\n",
      "\n",
      "\n",
      "****************************************************************************************************\n",
      "Applying LARSCV Regression...\n",
      "ROC achieved on train set using LARSCV is:  0.994921875\n",
      "Predicting on test data and saving the results.\n",
      "DONE!!\n",
      "****************************************************************************************************\n",
      "\n",
      "\n",
      "****************************************************************************************************\n",
      "Applying Bayesian Ridge Regression...\n",
      "ROC achieved on train set using bayesian ridge is:  1.0\n",
      "Predicting on test data and saving the results.\n",
      "DONE!!\n",
      "****************************************************************************************************\n",
      "\n",
      "\n",
      "****************************************************************************************************\n",
      "Applying ARD Regression...\n",
      "ROC achieved on train set using ARD Regression is:  1.0\n",
      "Predicting on test data and saving the results.\n",
      "DONE!!\n",
      "****************************************************************************************************\n",
      "\n",
      "\n",
      "****************************************************************************************************\n",
      "Applying Gaussian_NB....\n",
      "Best Hyper-parameters achieved:  {'var_smoothing': 1.0}\n",
      "ROC achieved on train set using Gaussian_NB:  0.50625\n",
      "Predicting on test data and saving the results.\n",
      "DONE!!\n",
      "****************************************************************************************************\n",
      "\n",
      "\n",
      "****************************************************************************************************\n",
      "Applying logistic_regression....\n",
      "Best Hyper-parameters achieved:  {'C': 10, 'class_weight': 'balanced', 'penalty': 'l2'}\n",
      "ROC achieved on train set using logistic_regression:  1.0\n",
      "Predicting on test data and saving the results.\n",
      "DONE!!\n",
      "****************************************************************************************************\n",
      "\n",
      "\n",
      "****************************************************************************************************\n",
      "Applying svc....\n",
      "Best Hyper-parameters achieved:  {'C': 10, 'class_weight': 'balanced', 'kernel': 'rbf'}\n",
      "ROC achieved on train set using svc:  1.0\n",
      "Predicting on test data and saving the results.\n",
      "DONE!!\n",
      "****************************************************************************************************\n",
      "\n",
      "\n",
      "****************************************************************************************************\n",
      "Applying huber_regressor....\n",
      "Best Hyper-parameters achieved:  {'epsilon': 1}\n",
      "ROC achieved on train set using huber_regressor:  0.9996484375\n",
      "Predicting on test data and saving the results.\n",
      "DONE!!\n",
      "****************************************************************************************************\n",
      "\n",
      "\n"
     ]
    }
   ],
   "source": [
    "apply_models(X_res,y_res,test_df.drop(columns=[\"id\"]),test_df.id.values,\"modelling_on_train_oversampling_data\")"
   ]
  },
  {
   "cell_type": "code",
   "execution_count": 135,
   "id": "25cec3ef",
   "metadata": {
    "scrolled": false
   },
   "outputs": [
    {
     "name": "stdout",
     "output_type": "stream",
     "text": [
      "+----------------------------+---------------------+--------------------+\n",
      "|           Model            | train_roc_auc_score | test_roc_auc_score |\n",
      "+----------------------------+---------------------+--------------------+\n",
      "|      Lasso Regression      |         1.0         |        0.62        |\n",
      "|      Ridge Regression      |         1.0         |        0.62        |\n",
      "|   ElasticNet Regression    |         1.0         |        0.62        |\n",
      "|     LASSOCV regression     |         1.0         |        0.77        |\n",
      "|           LARSCV           |         0.99        |        0.81        |\n",
      "| Bayesian Ridge regression  |         1.0         |        0.62        |\n",
      "|       ARD regression       |         1.0         |        0.61        |\n",
      "|        Guassian NB         |         0.5         |        0.5         |\n",
      "|    Logistic regression     |         1.0         |        0.72        |\n",
      "|            SVC             |         1.0         |        0.61        |\n",
      "|      huber_regressor       |         0.99        |        0.65        |\n",
      "+----------------------------+---------------------+--------------------+\n"
     ]
    }
   ],
   "source": [
    "table = PrettyTable()\n",
    "table.field_names = [\"Model\", \"train_roc_auc_score\", \"test_roc_auc_score\"]\n",
    "table.add_row([\"Lasso Regression\", 1.0,0.62])\n",
    "table.add_row([\"Ridge Regression\", 1.0,0.62])\n",
    "table.add_row([\"ElasticNet Regression\", 1.0,0.62])\n",
    "table.add_row([\"LASSOCV regression\", 1.0, 0.77])\n",
    "table.add_row([\"LARSCV\",0.99,0.81])\n",
    "table.add_row([\"Bayesian Ridge regression \", 1.0, 0.62])\n",
    "table.add_row([\"ARD regression\", 1.0, 0.61])\n",
    "table.add_row([\"Guassian NB\", 0.50, 0.50])\n",
    "table.add_row([\"Logistic regression\", 1.0, 0.72])\n",
    "table.add_row([\"SVC\", 1.0, 0.61])\n",
    "table.add_row([\"huber_regressor\", 0.99, 0.65])\n",
    "\n",
    "print(table)"
   ]
  },
  {
   "cell_type": "markdown",
   "id": "70058f74",
   "metadata": {},
   "source": [
    "- AUROC score has dropped drastically for all the models.\n",
    "- So, using SMOTE oversampling technique does not yield good results."
   ]
  },
  {
   "cell_type": "markdown",
   "id": "15ec2e1a",
   "metadata": {},
   "source": [
    "## 4.5 Modelling on train data + oversampling minority class using BorderLine SMOTE technique."
   ]
  },
  {
   "cell_type": "code",
   "execution_count": 7,
   "id": "94dac053",
   "metadata": {},
   "outputs": [
    {
     "name": "stdout",
     "output_type": "stream",
     "text": [
      "Resampled dataset shape Counter({1.0: 160, 0.0: 160})\n"
     ]
    }
   ],
   "source": [
    "from imblearn.over_sampling import BorderlineSMOTE \n",
    "from collections import Counter\n",
    "\n",
    "sm = BorderlineSMOTE(random_state=42)\n",
    "X_res, y_res = sm.fit_resample(x, y)\n",
    "print('Resampled dataset shape %s' % Counter(y_res))"
   ]
  },
  {
   "cell_type": "code",
   "execution_count": 8,
   "id": "687faa96",
   "metadata": {
    "scrolled": true
   },
   "outputs": [
    {
     "name": "stdout",
     "output_type": "stream",
     "text": [
      "****************************************************************************************************\n",
      "Applying Lasso_Regression....\n",
      "Best Hyper-parameters achieved:  {'alpha': 0.0}\n",
      "ROC achieved on train set using Lasso_Regression:  1.0\n",
      "Predicting on test data and saving the results.\n",
      "DONE!!\n",
      "****************************************************************************************************\n",
      "\n",
      "\n",
      "****************************************************************************************************\n",
      "Applying Ridge_Regression....\n",
      "Best Hyper-parameters achieved:  {'alpha': 0.0}\n",
      "ROC achieved on train set using Ridge_Regression:  1.0\n",
      "Predicting on test data and saving the results.\n",
      "DONE!!\n",
      "****************************************************************************************************\n",
      "\n",
      "\n",
      "****************************************************************************************************\n",
      "Applying ElasticNet_Regression....\n",
      "Best Hyper-parameters achieved:  {'alpha': 1e-05, 'l1_ratio': 0.0}\n",
      "ROC achieved on train set using ElasticNet_Regression:  1.0\n",
      "Predicting on test data and saving the results.\n",
      "DONE!!\n",
      "****************************************************************************************************\n",
      "\n",
      "\n",
      "****************************************************************************************************\n",
      "Applying LASSOCV Regression...\n",
      "ROC achieved on train set using LASSOCV is:  1.0\n",
      "Predicting on test data and saving the results.\n",
      "DONE!!\n",
      "****************************************************************************************************\n",
      "\n",
      "\n",
      "****************************************************************************************************\n",
      "Applying LARSCV Regression...\n",
      "ROC achieved on train set using LARSCV is:  0.99484375\n",
      "Predicting on test data and saving the results.\n",
      "DONE!!\n",
      "****************************************************************************************************\n",
      "\n",
      "\n",
      "****************************************************************************************************\n",
      "Applying Bayesian Ridge Regression...\n",
      "ROC achieved on train set using bayesian ridge is:  1.0\n",
      "Predicting on test data and saving the results.\n",
      "DONE!!\n",
      "****************************************************************************************************\n",
      "\n",
      "\n",
      "****************************************************************************************************\n",
      "Applying ARD Regression...\n",
      "ROC achieved on train set using ARD Regression is:  1.0\n",
      "Predicting on test data and saving the results.\n",
      "DONE!!\n",
      "****************************************************************************************************\n",
      "\n",
      "\n",
      "****************************************************************************************************\n",
      "Applying Gaussian_NB....\n",
      "Best Hyper-parameters achieved:  {'var_smoothing': 0.8111308307896871}\n",
      "ROC achieved on train set using Gaussian_NB:  0.525\n",
      "Predicting on test data and saving the results.\n",
      "DONE!!\n",
      "****************************************************************************************************\n",
      "\n",
      "\n",
      "****************************************************************************************************\n",
      "Applying logistic_regression....\n",
      "Best Hyper-parameters achieved:  {'C': 1000, 'class_weight': None, 'penalty': 'l1'}\n",
      "ROC achieved on train set using logistic_regression:  1.0\n",
      "Predicting on test data and saving the results.\n",
      "DONE!!\n",
      "****************************************************************************************************\n",
      "\n",
      "\n",
      "****************************************************************************************************\n",
      "Applying svc....\n",
      "Best Hyper-parameters achieved:  {'C': 1, 'class_weight': 'balanced', 'kernel': 'poly'}\n",
      "ROC achieved on train set using svc:  1.0\n",
      "Predicting on test data and saving the results.\n",
      "DONE!!\n",
      "****************************************************************************************************\n",
      "\n",
      "\n",
      "****************************************************************************************************\n",
      "Applying huber_regressor....\n",
      "Best Hyper-parameters achieved:  {'epsilon': 1}\n",
      "ROC achieved on train set using huber_regressor:  1.0\n",
      "Predicting on test data and saving the results.\n",
      "DONE!!\n",
      "****************************************************************************************************\n",
      "\n",
      "\n"
     ]
    }
   ],
   "source": [
    "apply_models(X_res,y_res,test_df.drop(columns=[\"id\"]),test_df.id.values,\"modelling_on_train_oversampling_borderline_data\")"
   ]
  },
  {
   "cell_type": "code",
   "execution_count": null,
   "id": "d3264b34",
   "metadata": {},
   "outputs": [],
   "source": [
    "table = PrettyTable()\n",
    "table.field_names = [\"Model\", \"train_roc_auc_score\", \"test_roc_auc_score\"]\n",
    "table.add_row([\"Lasso Regression\", 1.0,0.62])\n",
    "table.add_row([\"Ridge Regression\", 1.0,0.62])\n",
    "table.add_row([\"ElasticNet Regression\", 1.0,0.62])\n",
    "table.add_row([\"LASSOCV regression\", 1.0, 0.77])\n",
    "table.add_row([\"LARSCV\",0.99,0.825])\n",
    "table.add_row([\"Bayesian Ridge regression \", 1.0, 0.62])\n",
    "table.add_row([\"ARD regression\", 1.0, 0.61])\n",
    "table.add_row([\"Guassian NB\", 0.50, 0.50])\n",
    "table.add_row([\"Logistic regression\", 1.0, 0.72])\n",
    "table.add_row([\"SVC\", 1.0, 0.61])\n",
    "table.add_row([\"huber_regressor\", 0.99, 0.65])\n",
    "\n",
    "print(table)"
   ]
  },
  {
   "cell_type": "markdown",
   "id": "eb9498a8",
   "metadata": {},
   "source": [
    "- All models perform bad."
   ]
  },
  {
   "cell_type": "markdown",
   "id": "201ed14f",
   "metadata": {},
   "source": [
    "## 4.6 Modelling on train data + Under-Sampling using Neighbourhood Cleaning Rule."
   ]
  },
  {
   "cell_type": "code",
   "execution_count": 12,
   "id": "5657de41",
   "metadata": {},
   "outputs": [
    {
     "name": "stdout",
     "output_type": "stream",
     "text": [
      "Resampled dataset shape Counter({0.0: 90, 1.0: 81})\n"
     ]
    }
   ],
   "source": [
    "from imblearn.under_sampling import NeighbourhoodCleaningRule\n",
    "\n",
    "# define the undersampling method\n",
    "undersample = NeighbourhoodCleaningRule(n_neighbors=3, threshold_cleaning=0.5)\n",
    "# transform the dataset\n",
    "x_res, y_res = undersample.fit_resample(x, y)\n",
    "# summarize the new class distribution\n",
    "print('Resampled dataset shape %s' % Counter(y_res))"
   ]
  },
  {
   "cell_type": "code",
   "execution_count": 13,
   "id": "b908325b",
   "metadata": {
    "scrolled": true
   },
   "outputs": [
    {
     "name": "stdout",
     "output_type": "stream",
     "text": [
      "****************************************************************************************************\n",
      "Applying Lasso_Regression....\n",
      "Best Hyper-parameters achieved:  {'alpha': 0.02}\n",
      "ROC achieved on train set using Lasso_Regression:  1.0\n",
      "Predicting on test data and saving the results.\n",
      "DONE!!\n",
      "****************************************************************************************************\n",
      "\n",
      "\n",
      "****************************************************************************************************\n",
      "Applying Ridge_Regression....\n",
      "Best Hyper-parameters achieved:  {'alpha': 0.0}\n",
      "ROC achieved on train set using Ridge_Regression:  1.0\n",
      "Predicting on test data and saving the results.\n",
      "DONE!!\n",
      "****************************************************************************************************\n",
      "\n",
      "\n",
      "****************************************************************************************************\n",
      "Applying ElasticNet_Regression....\n",
      "Best Hyper-parameters achieved:  {'alpha': 1.0, 'l1_ratio': 0.03}\n",
      "ROC achieved on train set using ElasticNet_Regression:  0.9990397805212621\n",
      "Predicting on test data and saving the results.\n",
      "DONE!!\n",
      "****************************************************************************************************\n",
      "\n",
      "\n",
      "****************************************************************************************************\n",
      "Applying LASSOCV Regression...\n",
      "ROC achieved on train set using LASSOCV is:  1.0\n",
      "Predicting on test data and saving the results.\n",
      "DONE!!\n",
      "****************************************************************************************************\n",
      "\n",
      "\n",
      "****************************************************************************************************\n",
      "Applying LARSCV Regression...\n",
      "ROC achieved on train set using LARSCV is:  0.9997256515775034\n",
      "Predicting on test data and saving the results.\n",
      "DONE!!\n",
      "****************************************************************************************************\n",
      "\n",
      "\n",
      "****************************************************************************************************\n",
      "Applying Bayesian Ridge Regression...\n",
      "ROC achieved on train set using bayesian ridge is:  1.0\n",
      "Predicting on test data and saving the results.\n",
      "DONE!!\n",
      "****************************************************************************************************\n",
      "\n",
      "\n",
      "****************************************************************************************************\n",
      "Applying ARD Regression...\n",
      "ROC achieved on train set using ARD Regression is:  1.0\n",
      "Predicting on test data and saving the results.\n",
      "DONE!!\n",
      "****************************************************************************************************\n",
      "\n",
      "\n",
      "****************************************************************************************************\n",
      "Applying Gaussian_NB....\n",
      "Best Hyper-parameters achieved:  {'var_smoothing': 1.0}\n",
      "ROC achieved on train set using Gaussian_NB:  0.962962962962963\n",
      "Predicting on test data and saving the results.\n",
      "DONE!!\n",
      "****************************************************************************************************\n",
      "\n",
      "\n",
      "****************************************************************************************************\n",
      "Applying logistic_regression....\n",
      "Best Hyper-parameters achieved:  {'C': 0.0001, 'class_weight': None, 'penalty': 'l2'}\n",
      "ROC achieved on train set using logistic_regression:  0.9976680384087792\n",
      "Predicting on test data and saving the results.\n",
      "DONE!!\n",
      "****************************************************************************************************\n",
      "\n",
      "\n",
      "****************************************************************************************************\n",
      "Applying svc....\n",
      "Best Hyper-parameters achieved:  {'C': 0.1, 'class_weight': None, 'kernel': 'rbf'}\n",
      "ROC achieved on train set using svc:  0.5\n",
      "Predicting on test data and saving the results.\n",
      "DONE!!\n",
      "****************************************************************************************************\n",
      "\n",
      "\n",
      "****************************************************************************************************\n",
      "Applying huber_regressor....\n",
      "Best Hyper-parameters achieved:  {'epsilon': 35}\n",
      "ROC achieved on train set using huber_regressor:  1.0\n",
      "Predicting on test data and saving the results.\n",
      "DONE!!\n",
      "****************************************************************************************************\n",
      "\n",
      "\n"
     ]
    }
   ],
   "source": [
    "apply_models(x_res,y_res,test_df.drop(columns=[\"id\"]),test_df.id.values,\"modelling_on_train_undersampling_data\")"
   ]
  },
  {
   "cell_type": "code",
   "execution_count": 16,
   "id": "9793a4b4",
   "metadata": {},
   "outputs": [
    {
     "name": "stdout",
     "output_type": "stream",
     "text": [
      "+----------------------------+---------------------+--------------------+\n",
      "|           Model            | train_roc_auc_score | test_roc_auc_score |\n",
      "+----------------------------+---------------------+--------------------+\n",
      "|      Lasso Regression      |         1.0         |        0.71        |\n",
      "|      Ridge Regression      |         1.0         |       0.652        |\n",
      "|   ElasticNet Regression    |         1.0         |        0.62        |\n",
      "|     LASSOCV regression     |         1.0         |       0.784        |\n",
      "|           LARSCV           |         0.99        |       0.773        |\n",
      "| Bayesian Ridge regression  |         1.0         |        0.65        |\n",
      "|       ARD regression       |         1.0         |        0.64        |\n",
      "|        Guassian NB         |         0.5         |        0.79        |\n",
      "|    Logistic regression     |         1.0         |        0.71        |\n",
      "|            SVC             |         1.0         |        0.5         |\n",
      "|      huber_regressor       |         0.99        |       0.581        |\n",
      "+----------------------------+---------------------+--------------------+\n"
     ]
    }
   ],
   "source": [
    "table = PrettyTable()\n",
    "table.field_names = [\"Model\", \"train_roc_auc_score\", \"test_roc_auc_score\"]\n",
    "table.add_row([\"Lasso Regression\", 1.0,0.71])\n",
    "table.add_row([\"Ridge Regression\", 1.0,0.652])\n",
    "table.add_row([\"ElasticNet Regression\", 1.0,0.62])\n",
    "table.add_row([\"LASSOCV regression\", 1.0, 0.784])\n",
    "table.add_row([\"LARSCV\",0.99,0.773])\n",
    "table.add_row([\"Bayesian Ridge regression \", 1.0, 0.65])\n",
    "table.add_row([\"ARD regression\", 1.0, 0.64])\n",
    "table.add_row([\"Guassian NB\", 0.50, 0.79])\n",
    "table.add_row([\"Logistic regression\", 1.0, 0.71])\n",
    "table.add_row([\"SVC\", 1.0, 0.50])\n",
    "table.add_row([\"huber_regressor\", 0.99, 0.581])\n",
    "\n",
    "print(table)"
   ]
  },
  {
   "cell_type": "markdown",
   "id": "2f93fb0d",
   "metadata": {},
   "source": [
    "- Results get worse."
   ]
  },
  {
   "cell_type": "markdown",
   "id": "1cf2e165",
   "metadata": {},
   "source": [
    "## 4.7 Modelling on data with Lasso feature importance."
   ]
  },
  {
   "cell_type": "code",
   "execution_count": 7,
   "id": "ef9bacc5",
   "metadata": {},
   "outputs": [
    {
     "name": "stdout",
     "output_type": "stream",
     "text": [
      "Best Hyper-parameters achieved:  {'alpha': 0.06}\n"
     ]
    }
   ],
   "source": [
    "params = {\"alpha\":np.arange(0,1.01,0.01)}\n",
    "\n",
    "model = linear_model.Lasso()\n",
    "\n",
    "grid_search = GridSearchCV(estimator=model,param_grid=params,cv=10,n_jobs=-1,scoring=\"roc_auc\")\n",
    "grid_search.fit(x,y)\n",
    "\n",
    "print(\"Best Hyper-parameters achieved: \", grid_search.best_params_)\n"
   ]
  },
  {
   "cell_type": "code",
   "execution_count": 8,
   "id": "5d973baf",
   "metadata": {},
   "outputs": [
    {
     "name": "stdout",
     "output_type": "stream",
     "text": [
      "Number of features discarded with coffecients of Lasso Regression equals 0:  288\n",
      "****************************************************************************************************\n",
      "Number of Important features with coffecients of Lasso Regression greater than 0:  12\n",
      "****************************************************************************************************\n"
     ]
    },
    {
     "data": {
      "image/png": "[encoded data removed]",
      "text/plain": [
       "<Figure size 432x288 with 1 Axes>"
      ]
     },
     "metadata": {
      "needs_background": "light"
     },
     "output_type": "display_data"
    }
   ],
   "source": [
    "coefficients = grid_search.best_estimator_.coef_\n",
    "\n",
    "# the importance of a feature is it's absolute value of it's coffecient.\n",
    "\n",
    "importance = np.abs(coefficients)\n",
    "imp_features = np.array(x.columns)[importance > 0]\n",
    "discarded_features = np.array(x.columns)[importance == 0]\n",
    "\n",
    "print(\"Number of features discarded with coffecients of Lasso Regression equals 0: \", len(discarded_features))\n",
    "print(\"*\"*100)\n",
    "print(\"Number of Important features with coffecients of Lasso Regression greater than 0: \", len(imp_features))\n",
    "print(\"*\"*100)\n",
    "\n",
    "\n",
    "feat_importances = pd.Series(importance[importance > 0],imp_features)\n",
    "feat_importances.plot(kind=\"barh\")\n",
    "plt.title(\"Bar plot between features and coffecients of Lasso Regression greater than 0.\")\n",
    "plt.xlabel(\"Coffecient of Lasso Regression greater than zero\")\n",
    "plt.ylabel(\"Features\")\n",
    "plt.show()\n"
   ]
  },
  {
   "cell_type": "code",
   "execution_count": 9,
   "id": "d9761f91",
   "metadata": {},
   "outputs": [],
   "source": [
    "## Saving the important features given by Lasso Regression.\n",
    "np.save(\"important_fea\",imp_features)"
   ]
  },
  {
   "cell_type": "code",
   "execution_count": 10,
   "id": "57d6a57c",
   "metadata": {},
   "outputs": [
    {
     "data": {
      "text/plain": [
       "array(['16', '33', '65', '73', '80', '91', '117', '133', '189', '199',\n",
       "       '217', '295'], dtype=object)"
      ]
     },
     "execution_count": 10,
     "metadata": {},
     "output_type": "execute_result"
    }
   ],
   "source": [
    "np.load(\"important_fea.npy\",allow_pickle=True)"
   ]
  },
  {
   "cell_type": "code",
   "execution_count": 11,
   "id": "58f84476",
   "metadata": {},
   "outputs": [
    {
     "name": "stdout",
     "output_type": "stream",
     "text": [
      "Shape of train data after selecting the important features: (250, 12)\n",
      "Shape of test data after selecting the important features: (19750, 12)\n"
     ]
    }
   ],
   "source": [
    "# selecting the important features from the train data\n",
    "\n",
    "x_fea_imp_using_lasso = x.loc[:,imp_features]\n",
    "print(\"Shape of train data after selecting the important features:\", x_fea_imp_using_lasso.shape)\n",
    "\n",
    "# selecting the important features from the train data\n",
    "\n",
    "test_fea_imp_using_lasso = test_df.drop(columns=[\"id\"]).loc[:,imp_features]\n",
    "print(\"Shape of test data after selecting the important features:\", test_fea_imp_using_lasso.shape)\n"
   ]
  },
  {
   "cell_type": "code",
   "execution_count": 44,
   "id": "1f8bb273",
   "metadata": {
    "scrolled": true
   },
   "outputs": [
    {
     "name": "stdout",
     "output_type": "stream",
     "text": [
      "****************************************************************************************************\n",
      "Applying Lasso_Regression....\n",
      "Best Hyper-parameters achieved:  {'alpha': 0.0}\n",
      "ROC achieved on train set using Lasso_Regression:  0.9184722222222222\n",
      "Predicting on test data and saving the results.\n",
      "DONE!!\n",
      "****************************************************************************************************\n",
      "\n",
      "\n",
      "****************************************************************************************************\n",
      "Applying Ridge_Regression....\n",
      "Best Hyper-parameters achieved:  {'alpha': 0.0}\n",
      "ROC achieved on train set using Ridge_Regression:  0.9184722222222222\n",
      "Predicting on test data and saving the results.\n",
      "DONE!!\n",
      "****************************************************************************************************\n",
      "\n",
      "\n",
      "****************************************************************************************************\n",
      "Applying ElasticNet_Regression....\n",
      "Best Hyper-parameters achieved:  {'alpha': 0.01, 'l1_ratio': 0.16}\n",
      "ROC achieved on train set using ElasticNet_Regression:  0.9184027777777778\n",
      "Predicting on test data and saving the results.\n",
      "DONE!!\n",
      "****************************************************************************************************\n",
      "\n",
      "\n",
      "****************************************************************************************************\n",
      "Applying LASSOCV Regression...\n",
      "ROC achieved on train set using LASSOCV is:  0.9182638888888889\n",
      "Predicting on test data and saving the results.\n",
      "DONE!!\n",
      "****************************************************************************************************\n",
      "\n",
      "\n",
      "****************************************************************************************************\n",
      "Applying LARSCV Regression...\n",
      "ROC achieved on train set using LARSCV is:  0.9184722222222222\n",
      "Predicting on test data and saving the results.\n",
      "DONE!!\n",
      "****************************************************************************************************\n",
      "\n",
      "\n",
      "****************************************************************************************************\n",
      "Applying Bayesian Ridge Regression...\n",
      "ROC achieved on train set using bayesian ridge is:  0.9177777777777778\n",
      "Predicting on test data and saving the results.\n",
      "DONE!!\n",
      "****************************************************************************************************\n",
      "\n",
      "\n",
      "****************************************************************************************************\n",
      "Applying ARD Regression...\n",
      "ROC achieved on train set using ARD Regression is:  0.91875\n",
      "Predicting on test data and saving the results.\n",
      "DONE!!\n",
      "****************************************************************************************************\n",
      "\n",
      "\n",
      "****************************************************************************************************\n",
      "Applying Gaussian_NB....\n",
      "Best Hyper-parameters achieved:  {'var_smoothing': 1.0}\n",
      "ROC achieved on train set using Gaussian_NB:  0.7541666666666668\n",
      "Predicting on test data and saving the results.\n",
      "DONE!!\n",
      "****************************************************************************************************\n",
      "\n",
      "\n",
      "****************************************************************************************************\n",
      "Applying logistic_regression....\n",
      "Best Hyper-parameters achieved:  {'C': 1, 'class_weight': 'balanced', 'penalty': 'l1'}\n",
      "ROC achieved on train set using logistic_regression:  0.9194444444444445\n",
      "Predicting on test data and saving the results.\n",
      "DONE!!\n",
      "****************************************************************************************************\n",
      "\n",
      "\n",
      "****************************************************************************************************\n",
      "Applying svc....\n",
      "Best Hyper-parameters achieved:  {'C': 0.001, 'class_weight': None, 'kernel': 'rbf'}\n",
      "ROC achieved on train set using svc:  0.5\n",
      "Predicting on test data and saving the results.\n",
      "DONE!!\n",
      "****************************************************************************************************\n",
      "\n",
      "\n",
      "****************************************************************************************************\n",
      "Applying huber_regressor....\n",
      "Best Hyper-parameters achieved:  {'epsilon': 35}\n",
      "ROC achieved on train set using huber_regressor:  0.9184722222222222\n",
      "Predicting on test data and saving the results.\n",
      "DONE!!\n",
      "****************************************************************************************************\n",
      "\n",
      "\n"
     ]
    }
   ],
   "source": [
    "apply_models(x_fea_imp_using_lasso,y,test_fea_imp_using_lasso,test_df.id.values,\"modelling_on_fea_imp_using_lasso\")"
   ]
  },
  {
   "cell_type": "code",
   "execution_count": 50,
   "id": "05731e0b",
   "metadata": {
    "scrolled": true
   },
   "outputs": [
    {
     "name": "stdout",
     "output_type": "stream",
     "text": [
      "+----------------------------+---------------------+--------------------+\n",
      "|           Model            | train_roc_auc_score | test_roc_auc_score |\n",
      "+----------------------------+---------------------+--------------------+\n",
      "|      Lasso Regression      |         0.91        |       0.848        |\n",
      "|      Ridge Regression      |         0.91        |       0.848        |\n",
      "|   ElasticNet Regression    |         0.91        |       0.848        |\n",
      "|     LASSOCV regression     |         0.91        |       0.848        |\n",
      "|           LARSCV           |         0.91        |       0.848        |\n",
      "| Bayesian Ridge regression  |         0.91        |       0.847        |\n",
      "|       ARD regression       |         0.91        |       0.852        |\n",
      "|        Guassian NB         |         0.75        |       0.672        |\n",
      "|    Logistic regression     |         0.91        |       0.845        |\n",
      "|            SVC             |         0.5         |        0.5         |\n",
      "|      huber_regressor       |         0.91        |       0.848        |\n",
      "+----------------------------+---------------------+--------------------+\n"
     ]
    }
   ],
   "source": [
    "table = PrettyTable()\n",
    "table.field_names = [\"Model\", \"train_roc_auc_score\", \"test_roc_auc_score\"]\n",
    "table.add_row([\"Lasso Regression\", 0.91,0.848])\n",
    "table.add_row([\"Ridge Regression\", 0.91,0.848])\n",
    "table.add_row([\"ElasticNet Regression\", 0.91,0.848])\n",
    "table.add_row([\"LASSOCV regression\", 0.91, 0.848])\n",
    "table.add_row([\"LARSCV\",0.91,0.848])\n",
    "table.add_row([\"Bayesian Ridge regression \", 0.91, 0.847])\n",
    "table.add_row([\"ARD regression\", 0.91, 0.852])\n",
    "table.add_row([\"Guassian NB\", 0.75, 0.672])\n",
    "table.add_row([\"Logistic regression\", 0.91, 0.845])\n",
    "table.add_row([\"SVC\", 0.5, 0.50])\n",
    "table.add_row([\"huber_regressor\", 0.91, 0.848])\n",
    "\n",
    "print(table)"
   ]
  },
  {
   "cell_type": "markdown",
   "id": "f4816a62",
   "metadata": {},
   "source": [
    "- Feature Importance with Lasso regressor has worked really as it has improved the roc-auc score for all the models.\n",
    "- The best au-roc score achieved by **ARD regression:0.852** on test data."
   ]
  },
  {
   "cell_type": "markdown",
   "id": "e8251ba7",
   "metadata": {},
   "source": [
    "## 4.8 Modelling on data with RFE feature importance."
   ]
  },
  {
   "cell_type": "code",
   "execution_count": 95,
   "id": "9173dead",
   "metadata": {},
   "outputs": [
    {
     "data": {
      "text/plain": [
       "RFECV(cv=10,\n",
       "      estimator=LogisticRegression(C=0.1, penalty='l1', solver='liblinear'),\n",
       "      scoring='roc_auc')"
      ]
     },
     "execution_count": 95,
     "metadata": {},
     "output_type": "execute_result"
    }
   ],
   "source": [
    "from sklearn.feature_selection import RFECV\n",
    "\n",
    "# using logistic regression as base estimator\n",
    "\n",
    "params_lr = {\"penalty\":[\"l1\",\"l2\"], \"C\":[0.000001,0.00001,0.0001,0.001,0.01,0.1,1,10,100,1000],\n",
    "            \"class_weight\":[\"balanced\",None]}\n",
    "lr = LogisticRegression(solver = \"liblinear\")\n",
    "\n",
    "grid_search = GridSearchCV(lr,param_grid=params_lr,cv=10,n_jobs=-1,scoring=\"roc_auc\").fit(x,y)\n",
    "\n",
    "rfecv = RFECV(estimator=grid_search.best_estimator_, step=1, cv=10, scoring='roc_auc')\n",
    "rfecv.fit(x, y)"
   ]
  },
  {
   "cell_type": "code",
   "execution_count": 123,
   "id": "4fc13d55",
   "metadata": {
    "scrolled": true
   },
   "outputs": [
    {
     "name": "stdout",
     "output_type": "stream",
     "text": [
      "Optimal number of features, as per decided by RFECV: 6\n"
     ]
    },
    {
     "data": {
      "image/png": "[encoded data removed]",
      "text/plain": [
       "<Figure size 432x288 with 1 Axes>"
      ]
     },
     "metadata": {
      "needs_background": "light"
     },
     "output_type": "display_data"
    }
   ],
   "source": [
    "print('Optimal number of features, as per decided by RFECV: {}'.format(rfecv.n_features_))\n",
    "\n",
    "imp_features = np.where(rfecv.support_==True)[0]\n",
    "\n",
    "importance = np.abs(rfecv.estimator_.coef_[0])\n",
    "\n",
    "feat_importances = pd.Series(importance,imp_features)\n",
    "\n",
    "feat_importances.plot(kind=\"barh\")\n",
    "plt.title(\"Bar plot between features and coefficients given by LR.\")\n",
    "plt.xlabel(\"Coffecient of logistic regression\")\n",
    "plt.ylabel(\"Features\")\n",
    "plt.show()\n"
   ]
  },
  {
   "cell_type": "code",
   "execution_count": 125,
   "id": "2fd20123",
   "metadata": {},
   "outputs": [
    {
     "name": "stdout",
     "output_type": "stream",
     "text": [
      "Shape of train data after selecting the important features: (250, 6)\n",
      "Shape of test data after selecting the important features: (19750, 6)\n"
     ]
    }
   ],
   "source": [
    "x_fea_imp_using_rfe_lr = x.iloc[:,list(np.where(rfecv.support_==True)[0])]\n",
    "\n",
    "print(\"Shape of train data after selecting the important features:\", x_fea_imp_using_rfe_lr.shape)\n",
    "\n",
    "test_fea_imp_using_rfe_lr = test_df.drop(columns=[\"id\"]).iloc[:,list(np.where(rfecv.support_==True)[0])]\n",
    "print(\"Shape of test data after selecting the important features:\", test_fea_imp_using_rfe_lr.shape)\n"
   ]
  },
  {
   "cell_type": "code",
   "execution_count": 127,
   "id": "bc223111",
   "metadata": {
    "scrolled": true
   },
   "outputs": [
    {
     "name": "stdout",
     "output_type": "stream",
     "text": [
      "****************************************************************************************************\n",
      "Applying Lasso_Regression....\n",
      "Best Hyper-parameters achieved:  {'alpha': 0.0}\n",
      "ROC achieved on train set using Lasso_Regression:  0.8725694444444444\n",
      "Predicting on test data and saving the results.\n",
      "DONE!!\n",
      "****************************************************************************************************\n",
      "\n",
      "\n",
      "****************************************************************************************************\n",
      "Applying Ridge_Regression....\n",
      "Best Hyper-parameters achieved:  {'alpha': 0.0}\n",
      "ROC achieved on train set using Ridge_Regression:  0.8725694444444444\n",
      "Predicting on test data and saving the results.\n",
      "DONE!!\n",
      "****************************************************************************************************\n",
      "\n",
      "\n",
      "****************************************************************************************************\n",
      "Applying ElasticNet_Regression....\n",
      "Best Hyper-parameters achieved:  {'alpha': 0.1, 'l1_ratio': 0.0}\n",
      "ROC achieved on train set using ElasticNet_Regression:  0.8716666666666667\n",
      "Predicting on test data and saving the results.\n",
      "DONE!!\n",
      "****************************************************************************************************\n",
      "\n",
      "\n",
      "****************************************************************************************************\n",
      "Applying LASSOCV Regression...\n",
      "ROC achieved on train set using LASSOCV is:  0.8722222222222223\n",
      "Predicting on test data and saving the results.\n",
      "DONE!!\n",
      "****************************************************************************************************\n",
      "\n",
      "\n",
      "****************************************************************************************************\n",
      "Applying LARSCV Regression...\n",
      "ROC achieved on train set using LARSCV is:  0.8725694444444444\n",
      "Predicting on test data and saving the results.\n",
      "DONE!!\n",
      "****************************************************************************************************\n",
      "\n",
      "\n",
      "****************************************************************************************************\n",
      "Applying Bayesian Ridge Regression...\n",
      "ROC achieved on train set using bayesian ridge is:  0.8720833333333334\n",
      "Predicting on test data and saving the results.\n",
      "DONE!!\n",
      "****************************************************************************************************\n",
      "\n",
      "\n",
      "****************************************************************************************************\n",
      "Applying ARD Regression...\n",
      "ROC achieved on train set using ARD Regression is:  0.8725\n",
      "Predicting on test data and saving the results.\n",
      "DONE!!\n",
      "****************************************************************************************************\n",
      "\n",
      "\n",
      "****************************************************************************************************\n",
      "Applying Gaussian_NB....\n",
      "Best Hyper-parameters achieved:  {'var_smoothing': 1.0}\n",
      "ROC achieved on train set using Gaussian_NB:  0.684375\n",
      "Predicting on test data and saving the results.\n",
      "DONE!!\n",
      "****************************************************************************************************\n",
      "\n",
      "\n",
      "****************************************************************************************************\n",
      "Applying logistic_regression....\n",
      "Best Hyper-parameters achieved:  {'C': 1, 'class_weight': 'balanced', 'penalty': 'l1'}\n",
      "ROC achieved on train set using logistic_regression:  0.8735416666666667\n",
      "Predicting on test data and saving the results.\n",
      "DONE!!\n",
      "****************************************************************************************************\n",
      "\n",
      "\n",
      "****************************************************************************************************\n",
      "Applying svc....\n",
      "Best Hyper-parameters achieved:  {'C': 1, 'class_weight': 'balanced', 'kernel': 'rbf'}\n",
      "ROC achieved on train set using svc:  0.8559027777777778\n",
      "Predicting on test data and saving the results.\n",
      "DONE!!\n",
      "****************************************************************************************************\n",
      "\n",
      "\n",
      "****************************************************************************************************\n",
      "Applying huber_regressor....\n",
      "Best Hyper-parameters achieved:  {'epsilon': 1.5}\n",
      "ROC achieved on train set using huber_regressor:  0.8715277777777777\n",
      "Predicting on test data and saving the results.\n",
      "DONE!!\n",
      "****************************************************************************************************\n",
      "\n",
      "\n"
     ]
    }
   ],
   "source": [
    "apply_models(x_fea_imp_using_rfe_lr,y,test_fea_imp_using_rfe_lr,test_df.id.values,\"modelling_on_fea_imp_using_rfe_lr\")"
   ]
  },
  {
   "cell_type": "code",
   "execution_count": 129,
   "id": "a12ea23d",
   "metadata": {},
   "outputs": [
    {
     "name": "stdout",
     "output_type": "stream",
     "text": [
      "+----------------------------+---------------------+--------------------+\n",
      "|           Model            | train_roc_auc_score | test_roc_auc_score |\n",
      "+----------------------------+---------------------+--------------------+\n",
      "|      Lasso Regression      |         0.87        |       0.835        |\n",
      "|      Ridge Regression      |         0.87        |       0.835        |\n",
      "|   ElasticNet Regression    |         0.87        |       0.835        |\n",
      "|     LASSOCV regression     |         0.87        |       0.835        |\n",
      "|           LARSCV           |         0.87        |       0.835        |\n",
      "| Bayesian Ridge regression  |         0.87        |       0.835        |\n",
      "|       ARD regression       |         0.87        |       0.836        |\n",
      "|        Guassian NB         |         0.68        |       0.672        |\n",
      "|    Logistic regression     |         0.87        |       0.635        |\n",
      "|            SVC             |         0.85        |        0.73        |\n",
      "|      huber_regressor       |         0.87        |       0.835        |\n",
      "+----------------------------+---------------------+--------------------+\n"
     ]
    }
   ],
   "source": [
    "table = PrettyTable()\n",
    "table.field_names = [\"Model\", \"train_roc_auc_score\", \"test_roc_auc_score\"]\n",
    "table.add_row([\"Lasso Regression\", 0.87,0.835])\n",
    "table.add_row([\"Ridge Regression\", 0.87,0.835])\n",
    "table.add_row([\"ElasticNet Regression\", 0.87,0.835])\n",
    "table.add_row([\"LASSOCV regression\", 0.87, 0.835])\n",
    "table.add_row([\"LARSCV\",0.87,0.835])\n",
    "table.add_row([\"Bayesian Ridge regression \", 0.87, 0.835])\n",
    "table.add_row([\"ARD regression\", 0.87, 0.836])\n",
    "table.add_row([\"Guassian NB\", 0.68, 0.672])\n",
    "table.add_row([\"Logistic regression\", 0.87, 0.635])\n",
    "table.add_row([\"SVC\", 0.85, 0.73])\n",
    "table.add_row([\"huber_regressor\", 0.87, 0.835])\n",
    "\n",
    "print(table)"
   ]
  },
  {
   "cell_type": "markdown",
   "id": "d404702b",
   "metadata": {},
   "source": [
    "- it has dropped the score for all the models."
   ]
  },
  {
   "cell_type": "markdown",
   "id": "4f2a83ad",
   "metadata": {},
   "source": [
    "## 4.9 Modelling on data with Forward feature selection feature importance."
   ]
  },
  {
   "cell_type": "code",
   "execution_count": 148,
   "id": "240fdaa8",
   "metadata": {},
   "outputs": [
    {
     "data": {
      "text/plain": [
       "SequentialFeatureSelector(estimator=LogisticRegression(), n_jobs=-1,\n",
       "                          scoring='roc_auc')"
      ]
     },
     "execution_count": 148,
     "metadata": {},
     "output_type": "execute_result"
    }
   ],
   "source": [
    "from sklearn.feature_selection import SequentialFeatureSelector\n",
    "# using logistic regression as base estimator\n",
    "\n",
    "sfs = SequentialFeatureSelector(linear_model.LogisticRegression(),n_jobs=-1,scoring=\"roc_auc\")\n",
    "sfs.fit(x, y)"
   ]
  },
  {
   "cell_type": "code",
   "execution_count": 159,
   "id": "17e2a59c",
   "metadata": {},
   "outputs": [
    {
     "name": "stdout",
     "output_type": "stream",
     "text": [
      "Optimal number of features, as per selected by Sequential feature selector : 150\n",
      "****************************************************************************************************\n",
      "Shape of train data after selecting the important features: (250, 150)\n",
      "Shape of test data after selecting the important features: (19750, 150)\n"
     ]
    }
   ],
   "source": [
    "print('Optimal number of features, as per selected by Sequential feature selector : {}'.format(sfs.n_features_to_select_))\n",
    "\n",
    "print(\"*\"*100)\n",
    "\n",
    "x_fea_imp_using_ffs = x.loc[:,(x.columns[sfs.support_==True])]\n",
    "\n",
    "print(\"Shape of train data after selecting the important features:\", x_fea_imp_using_ffs.shape)\n",
    "\n",
    "test_fea_imp_using_ffs = test_df.drop(columns=[\"id\"]).loc[:,(x.columns[sfs.support_==True])]\n",
    "print(\"Shape of test data after selecting the important features:\", test_fea_imp_using_ffs.shape)\n"
   ]
  },
  {
   "cell_type": "code",
   "execution_count": 162,
   "id": "ceb80b14",
   "metadata": {
    "scrolled": true
   },
   "outputs": [
    {
     "name": "stdout",
     "output_type": "stream",
     "text": [
      "****************************************************************************************************\n",
      "Applying Lasso_Regression....\n",
      "Best Hyper-parameters achieved:  {'alpha': 0.05}\n",
      "ROC achieved on train set using Lasso_Regression:  0.9015972222222223\n",
      "Predicting on test data and saving the results.\n",
      "DONE!!\n",
      "****************************************************************************************************\n",
      "\n",
      "\n",
      "****************************************************************************************************\n",
      "Applying Ridge_Regression....\n",
      "Best Hyper-parameters achieved:  {'alpha': 0.8300000000000001}\n",
      "ROC achieved on train set using Ridge_Regression:  0.9997916666666667\n",
      "Predicting on test data and saving the results.\n",
      "DONE!!\n",
      "****************************************************************************************************\n",
      "\n",
      "\n",
      "****************************************************************************************************\n",
      "Applying ElasticNet_Regression....\n",
      "Best Hyper-parameters achieved:  {'alpha': 0.1, 'l1_ratio': 0.49}\n",
      "ROC achieved on train set using ElasticNet_Regression:  0.903263888888889\n",
      "Predicting on test data and saving the results.\n",
      "DONE!!\n",
      "****************************************************************************************************\n",
      "\n",
      "\n",
      "****************************************************************************************************\n",
      "Applying LASSOCV Regression...\n",
      "ROC achieved on train set using LASSOCV is:  0.9752083333333333\n",
      "Predicting on test data and saving the results.\n",
      "DONE!!\n",
      "****************************************************************************************************\n",
      "\n",
      "\n",
      "****************************************************************************************************\n",
      "Applying LARSCV Regression...\n",
      "ROC achieved on train set using LARSCV is:  0.9772916666666667\n",
      "Predicting on test data and saving the results.\n",
      "DONE!!\n",
      "****************************************************************************************************\n",
      "\n",
      "\n",
      "****************************************************************************************************\n",
      "Applying Bayesian Ridge Regression...\n",
      "ROC achieved on train set using bayesian ridge is:  0.991111111111111\n",
      "Predicting on test data and saving the results.\n",
      "DONE!!\n",
      "****************************************************************************************************\n",
      "\n",
      "\n",
      "****************************************************************************************************\n",
      "Applying ARD Regression...\n",
      "ROC achieved on train set using ARD Regression is:  0.9891666666666666\n",
      "Predicting on test data and saving the results.\n",
      "DONE!!\n",
      "****************************************************************************************************\n",
      "\n",
      "\n",
      "****************************************************************************************************\n",
      "Applying Gaussian_NB....\n",
      "Best Hyper-parameters achieved:  {'var_smoothing': 1.0}\n",
      "ROC achieved on train set using Gaussian_NB:  0.8979166666666667\n",
      "Predicting on test data and saving the results.\n",
      "DONE!!\n",
      "****************************************************************************************************\n",
      "\n",
      "\n",
      "****************************************************************************************************\n",
      "Applying logistic_regression....\n",
      "Best Hyper-parameters achieved:  {'C': 10, 'class_weight': 'balanced', 'penalty': 'l2'}\n",
      "ROC achieved on train set using logistic_regression:  1.0\n",
      "Predicting on test data and saving the results.\n",
      "DONE!!\n",
      "****************************************************************************************************\n",
      "\n",
      "\n",
      "****************************************************************************************************\n",
      "Applying svc....\n",
      "Best Hyper-parameters achieved:  {'C': 0.1, 'class_weight': 'balanced', 'kernel': 'linear'}\n",
      "ROC achieved on train set using svc:  0.996875\n",
      "Predicting on test data and saving the results.\n",
      "DONE!!\n",
      "****************************************************************************************************\n",
      "\n",
      "\n",
      "****************************************************************************************************\n",
      "Applying huber_regressor....\n",
      "Best Hyper-parameters achieved:  {'epsilon': 1}\n",
      "ROC achieved on train set using huber_regressor:  0.9735416666666667\n",
      "Predicting on test data and saving the results.\n",
      "DONE!!\n",
      "****************************************************************************************************\n",
      "\n",
      "\n"
     ]
    }
   ],
   "source": [
    "apply_models(x_fea_imp_using_ffs,y,test_fea_imp_using_ffs,test_df.id.values,\"modelling_on_fea_imp_using_ffs\")"
   ]
  },
  {
   "cell_type": "code",
   "execution_count": 163,
   "id": "91cd9393",
   "metadata": {},
   "outputs": [
    {
     "name": "stdout",
     "output_type": "stream",
     "text": [
      "+----------------------------+---------------------+--------------------+\n",
      "|           Model            | train_roc_auc_score | test_roc_auc_score |\n",
      "+----------------------------+---------------------+--------------------+\n",
      "|      Lasso Regression      |         0.9         |       0.844        |\n",
      "|      Ridge Regression      |         0.99        |       0.715        |\n",
      "|   ElasticNet Regression    |         0.9         |       0.844        |\n",
      "|     LASSOCV regression     |         0.97        |       0.842        |\n",
      "|           LARSCV           |         0.97        |       0.839        |\n",
      "| Bayesian Ridge regression  |         0.99        |       0.773        |\n",
      "|       ARD regression       |         0.98        |       0.801        |\n",
      "|        Guassian NB         |         0.89        |        0.64        |\n",
      "|    Logistic regression     |         1.0         |        0.75        |\n",
      "|            SVC             |         0.99        |       0.676        |\n",
      "|      huber_regressor       |         0.97        |        0.72        |\n",
      "+----------------------------+---------------------+--------------------+\n"
     ]
    }
   ],
   "source": [
    "table = PrettyTable()\n",
    "table.field_names = [\"Model\", \"train_roc_auc_score\", \"test_roc_auc_score\"]\n",
    "table.add_row([\"Lasso Regression\", 0.90,0.844])\n",
    "table.add_row([\"Ridge Regression\", 0.99,0.715])\n",
    "table.add_row([\"ElasticNet Regression\", 0.90,0.844])\n",
    "table.add_row([\"LASSOCV regression\", 0.97, 0.842])\n",
    "table.add_row([\"LARSCV\",0.97,0.839])\n",
    "table.add_row([\"Bayesian Ridge regression \", 0.99, 0.773])\n",
    "table.add_row([\"ARD regression\", 0.98, 0.801])\n",
    "table.add_row([\"Guassian NB\", 0.89, 0.64])\n",
    "table.add_row([\"Logistic regression\", 1.0, 0.75])\n",
    "table.add_row([\"SVC\", 0.99, 0.676])\n",
    "table.add_row([\"huber_regressor\", 0.97, 0.72])\n",
    "\n",
    "print(table)"
   ]
  },
  {
   "cell_type": "markdown",
   "id": "6705b108",
   "metadata": {},
   "source": [
    "- Perform okayish"
   ]
  },
  {
   "cell_type": "markdown",
   "id": "572412e8",
   "metadata": {},
   "source": [
    "## 5. Psedo-labelling | Semi-Supervised Learning."
   ]
  },
  {
   "cell_type": "code",
   "execution_count": 14,
   "id": "5644d5cb",
   "metadata": {
    "scrolled": true
   },
   "outputs": [],
   "source": [
    "## define Logistic Regression\n",
    "params_lr = {\"penalty\":[\"l1\",\"l2\"], \"C\":[0.000001,0.00001,0.0001,0.001,0.01,0.1,1,10,100,1000],\n",
    "            \"class_weight\":[\"balanced\",None]}\n",
    "\n",
    "lr = LogisticRegression(solver = \"liblinear\")\n",
    "\n",
    "grid_search = GridSearchCV(lr,param_grid=params_lr,cv=10,n_jobs=-1,scoring=\"roc_auc\").fit(x_fea_imp_using_lasso,y)"
   ]
  },
  {
   "cell_type": "code",
   "execution_count": 34,
   "id": "75a193d8",
   "metadata": {},
   "outputs": [
    {
     "name": "stdout",
     "output_type": "stream",
     "text": [
      "Number of Samples:  3950\n",
      "[1. 1. 1. 1. 0. 0. 0. 0. 1. 0.]\n",
      "(19750, 12)\n",
      "Shape of augmented data with sampling rate 0.2:  (4200, 13)\n"
     ]
    }
   ],
   "source": [
    "\n",
    "sample_rate = 0.2\n",
    "num_of_samples = int(len(test_fea_imp_using_lasso) * sample_rate)\n",
    "print(\"Number of Samples: \",num_of_samples)\n",
    "\n",
    "# Train the model and creat the pseudo-labels\n",
    "#grid_search.best_estimator_.fit(x_fea_imp_using_lasso,y)\n",
    "model = linear_model.ARDRegression().fit(x_fea_imp_using_lasso,y)\n",
    "#pseudo_labels = grid_search.best_estimator_.predict(test_fea_imp_using_lasso)\n",
    "pseudo_labels = model.predict(test_fea_imp_using_lasso)\n",
    "\n",
    "pseudo_labels[pseudo_labels >=0.5] = 1\n",
    "pseudo_labels[pseudo_labels <0.5] = 0\n",
    "print(pseudo_labels[:10])\n",
    "\n",
    "# Add the pseudo-labels to the test set\n",
    "pseudo_data = test_fea_imp_using_lasso.copy(deep=True)\n",
    "print(pseudo_data.shape)\n",
    "pseudo_data[\"target\"] = pseudo_labels\n",
    "\n",
    "\n",
    "# Take a subset of the test set with pseudo-labels and append in onto\n",
    "# the training set\n",
    "sampled_pseudo_data = pseudo_data.sample(n=num_of_samples)\n",
    "temp_train = pd.concat([x_fea_imp_using_lasso, y], axis=1)\n",
    "augemented_train = pd.concat([sampled_pseudo_data, temp_train])\n",
    "\n",
    "print(\"Shape of augmented data with sampling rate {}: \".format(sample_rate),augemented_train.shape)\n",
    "\n"
   ]
  },
  {
   "cell_type": "code",
   "execution_count": 21,
   "id": "149f7445",
   "metadata": {
    "scrolled": true
   },
   "outputs": [
    {
     "name": "stdout",
     "output_type": "stream",
     "text": [
      "****************************************************************************************************\n",
      "Applying Lasso_Regression....\n",
      "Best Hyper-parameters achieved:  {'alpha': 0.0}\n",
      "ROC achieved on train set using Lasso_Regression:  0.9934496622382316\n",
      "Predicting on test data and saving the results.\n",
      "DONE!!\n",
      "****************************************************************************************************\n",
      "\n",
      "\n",
      "****************************************************************************************************\n",
      "Applying Ridge_Regression....\n",
      "Best Hyper-parameters achieved:  {'alpha': 0.0}\n",
      "ROC achieved on train set using Ridge_Regression:  0.9934496622382316\n",
      "Predicting on test data and saving the results.\n",
      "DONE!!\n",
      "****************************************************************************************************\n",
      "\n",
      "\n",
      "****************************************************************************************************\n",
      "Applying ElasticNet_Regression....\n",
      "Best Hyper-parameters achieved:  {'alpha': 1.0, 'l1_ratio': 0.0}\n",
      "ROC achieved on train set using ElasticNet_Regression:  0.9935193496361123\n",
      "Predicting on test data and saving the results.\n",
      "DONE!!\n",
      "****************************************************************************************************\n",
      "\n",
      "\n",
      "****************************************************************************************************\n",
      "Applying LASSOCV Regression...\n",
      "ROC achieved on train set using LASSOCV is:  0.9934474411259485\n",
      "Predicting on test data and saving the results.\n",
      "DONE!!\n",
      "****************************************************************************************************\n",
      "\n",
      "\n",
      "****************************************************************************************************\n",
      "Applying LARSCV Regression...\n",
      "ROC achieved on train set using LARSCV is:  0.9934496622382316\n",
      "Predicting on test data and saving the results.\n",
      "DONE!!\n",
      "****************************************************************************************************\n",
      "\n",
      "\n",
      "****************************************************************************************************\n",
      "Applying Bayesian Ridge Regression...\n",
      "ROC achieved on train set using bayesian ridge is:  0.9934499398772669\n",
      "Predicting on test data and saving the results.\n",
      "DONE!!\n",
      "****************************************************************************************************\n",
      "\n",
      "\n",
      "****************************************************************************************************\n",
      "Applying ARD Regression...\n",
      "ROC achieved on train set using ARD Regression is:  0.9934432765404176\n",
      "Predicting on test data and saving the results.\n",
      "DONE!!\n",
      "****************************************************************************************************\n",
      "\n",
      "\n",
      "****************************************************************************************************\n",
      "Applying Gaussian_NB....\n",
      "Best Hyper-parameters achieved:  {'var_smoothing': 1.0}\n",
      "ROC achieved on train set using Gaussian_NB:  0.6424642241279983\n",
      "Predicting on test data and saving the results.\n",
      "DONE!!\n",
      "****************************************************************************************************\n",
      "\n",
      "\n",
      "****************************************************************************************************\n",
      "Applying logistic_regression....\n",
      "Best Hyper-parameters achieved:  {'C': 1000, 'class_weight': None, 'penalty': 'l2'}\n",
      "ROC achieved on train set using logistic_regression:  0.9937867160271854\n",
      "Predicting on test data and saving the results.\n",
      "DONE!!\n",
      "****************************************************************************************************\n",
      "\n",
      "\n",
      "****************************************************************************************************\n",
      "Applying svc....\n",
      "Best Hyper-parameters achieved:  {'C': 100, 'class_weight': 'balanced', 'kernel': 'linear'}\n",
      "ROC achieved on train set using svc:  0.9769220881009739\n",
      "Predicting on test data and saving the results.\n",
      "DONE!!\n",
      "****************************************************************************************************\n",
      "\n",
      "\n",
      "****************************************************************************************************\n",
      "Applying huber_regressor....\n",
      "Best Hyper-parameters achieved:  {'epsilon': 35}\n",
      "ROC achieved on train set using huber_regressor:  0.9934496622382316\n",
      "Predicting on test data and saving the results.\n",
      "DONE!!\n",
      "****************************************************************************************************\n",
      "\n",
      "\n"
     ]
    }
   ],
   "source": [
    "apply_models(augemented_train.drop(columns=[\"target\"]),augemented_train.target.values,test_fea_imp_using_lasso,\n",
    "             test_df.id.values,\"modelling_on_data_using_psedo_labelling\")\n"
   ]
  },
  {
   "cell_type": "code",
   "execution_count": 22,
   "id": "bf1dbe26",
   "metadata": {
    "scrolled": true
   },
   "outputs": [
    {
     "name": "stdout",
     "output_type": "stream",
     "text": [
      "+----------------------------+---------------------+--------------------+\n",
      "|           Model            | train_roc_auc_score | test_roc_auc_score |\n",
      "+----------------------------+---------------------+--------------------+\n",
      "|      Lasso Regression      |         0.9         |       0.851        |\n",
      "|      Ridge Regression      |         0.99        |       0.851        |\n",
      "|   ElasticNet Regression    |         0.9         |       0.851        |\n",
      "|     LASSOCV regression     |         0.97        |       0.851        |\n",
      "|           LARSCV           |         0.97        |       0.851        |\n",
      "| Bayesian Ridge regression  |         0.99        |       0.851        |\n",
      "|       ARD regression       |         0.98        |       0.852        |\n",
      "|        Guassian NB         |         0.89        |       0.603        |\n",
      "|    Logistic regression     |         1.0         |       0.852        |\n",
      "|            SVC             |         0.99        |       0.747        |\n",
      "|      huber_regressor       |         0.97        |       0.851        |\n",
      "+----------------------------+---------------------+--------------------+\n"
     ]
    }
   ],
   "source": [
    "from prettytable import PrettyTable\n",
    "\n",
    "table = PrettyTable()\n",
    "\n",
    "table.field_names = [\"Model\", \"train_roc_auc_score\", \"test_roc_auc_score\"]\n",
    "table.add_row([\"Lasso Regression\", 0.90,0.851])\n",
    "table.add_row([\"Ridge Regression\", 0.99,0.851])\n",
    "table.add_row([\"ElasticNet Regression\", 0.90,0.851])\n",
    "table.add_row([\"LASSOCV regression\", 0.97, 0.851])\n",
    "table.add_row([\"LARSCV\",0.97,0.851])\n",
    "table.add_row([\"Bayesian Ridge regression \", 0.99, 0.851])\n",
    "table.add_row([\"ARD regression\", 0.98, 0.852])\n",
    "table.add_row([\"Guassian NB\", 0.89, 0.603])\n",
    "table.add_row([\"Logistic regression\", 1.0, 0.852])\n",
    "table.add_row([\"SVC\", 0.99, 0.747])\n",
    "table.add_row([\"huber_regressor\", 0.97, 0.851])\n",
    "\n",
    "print(table)"
   ]
  },
  {
   "cell_type": "markdown",
   "id": "08635791",
   "metadata": {},
   "source": [
    "- It has improved almost all models a bit. But, still the best roc score achieved is **0.852**."
   ]
  },
  {
   "cell_type": "markdown",
   "id": "0cfbb6ba",
   "metadata": {},
   "source": [
    "# 6. Final Results"
   ]
  },
  {
   "cell_type": "markdown",
   "id": "0315f50e",
   "metadata": {},
   "source": [
    "- Best ROC-AUC score achieved **0.852** on test set by  ARD regressor using Lasso Feature Importance.\n",
    "- This best score is in **top 5% of the kaggle leaderboard score.**\n",
    "\n",
    "![alt text](kaggle_score.png \"Title\")"
   ]
  },
  {
   "cell_type": "code",
   "execution_count": 14,
   "id": "5055b0e8",
   "metadata": {
    "scrolled": true
   },
   "outputs": [],
   "source": [
    "# Saving the best model\n",
    "import pickle\n",
    "\n",
    "model = linear_model.ARDRegression().fit(x_fea_imp_using_lasso,y)\n",
    "\n",
    "\n",
    "pickle.dump(model, open(\"best_model\", 'wb'))\n"
   ]
  },
  {
   "cell_type": "code",
   "execution_count": null,
   "id": "2f31ebfe",
   "metadata": {},
   "outputs": [],
   "source": []
  }
 ],
 "metadata": {
  "kernelspec": {
   "display_name": "Python 3",
   "language": "python",
   "name": "python3"
  },
  "language_info": {
   "codemirror_mode": {
    "name": "ipython",
    "version": 3
   },
   "file_extension": ".py",
   "mimetype": "text/x-python",
   "name": "python",
   "nbconvert_exporter": "python",
   "pygments_lexer": "ipython3",
   "version": "3.8.8"
  }
 },
 "nbformat": 4,
 "nbformat_minor": 5
}
